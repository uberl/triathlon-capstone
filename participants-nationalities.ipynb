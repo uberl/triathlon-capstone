{
 "cells": [
  {
   "cell_type": "code",
   "execution_count": 1,
   "metadata": {},
   "outputs": [],
   "source": [
    "import pandas as pd\n",
    "import matplotlib.pyplot as plt\n",
    "import plotly.express as px"
   ]
  },
  {
   "cell_type": "markdown",
   "metadata": {},
   "source": [
    "Read the data. One line is one participant.\n"
   ]
  },
  {
   "cell_type": "code",
   "execution_count": 16,
   "metadata": {},
   "outputs": [
    {
     "data": {
      "text/html": [
       "<div>\n",
       "<style scoped>\n",
       "    .dataframe tbody tr th:only-of-type {\n",
       "        vertical-align: middle;\n",
       "    }\n",
       "\n",
       "    .dataframe tbody tr th {\n",
       "        vertical-align: top;\n",
       "    }\n",
       "\n",
       "    .dataframe thead th {\n",
       "        text-align: right;\n",
       "    }\n",
       "</style>\n",
       "<table border=\"1\" class=\"dataframe\">\n",
       "  <thead>\n",
       "    <tr style=\"text-align: right;\">\n",
       "      <th></th>\n",
       "      <th>sex</th>\n",
       "      <th>bib</th>\n",
       "      <th>team</th>\n",
       "      <th>place</th>\n",
       "      <th>name</th>\n",
       "      <th>nationality</th>\n",
       "      <th>swim_time</th>\n",
       "      <th>swim_place</th>\n",
       "      <th>t1_time</th>\n",
       "      <th>bike_time</th>\n",
       "      <th>bike_place</th>\n",
       "      <th>t2_time</th>\n",
       "      <th>run_time</th>\n",
       "      <th>run_place</th>\n",
       "      <th>total_time</th>\n",
       "    </tr>\n",
       "  </thead>\n",
       "  <tbody>\n",
       "    <tr>\n",
       "      <th>0</th>\n",
       "      <td>M</td>\n",
       "      <td>1197</td>\n",
       "      <td>Post SV Nürnberg</td>\n",
       "      <td>1</td>\n",
       "      <td>RUPPRECHT Alexander</td>\n",
       "      <td>DEU</td>\n",
       "      <td>00:24:17</td>\n",
       "      <td>10</td>\n",
       "      <td>00:01:55</td>\n",
       "      <td>00:58:09</td>\n",
       "      <td>1</td>\n",
       "      <td>00:01:11</td>\n",
       "      <td>00:34:59</td>\n",
       "      <td>3.0</td>\n",
       "      <td>02:00:28</td>\n",
       "    </tr>\n",
       "    <tr>\n",
       "      <th>1</th>\n",
       "      <td>M</td>\n",
       "      <td>1188</td>\n",
       "      <td>Twin Neumarkt</td>\n",
       "      <td>2</td>\n",
       "      <td>WIEDEMANN Matteo</td>\n",
       "      <td>DEU</td>\n",
       "      <td>00:23:51</td>\n",
       "      <td>8</td>\n",
       "      <td>00:01:55</td>\n",
       "      <td>00:59:43</td>\n",
       "      <td>2</td>\n",
       "      <td>00:01:41</td>\n",
       "      <td>00:33:50</td>\n",
       "      <td>1.0</td>\n",
       "      <td>02:00:57</td>\n",
       "    </tr>\n",
       "    <tr>\n",
       "      <th>2</th>\n",
       "      <td>M</td>\n",
       "      <td>1214</td>\n",
       "      <td>NaN</td>\n",
       "      <td>3</td>\n",
       "      <td>HARTMANN Johannes</td>\n",
       "      <td>DEU</td>\n",
       "      <td>00:20:53</td>\n",
       "      <td>2</td>\n",
       "      <td>00:02:30</td>\n",
       "      <td>01:02:05</td>\n",
       "      <td>4</td>\n",
       "      <td>00:01:53</td>\n",
       "      <td>00:35:39</td>\n",
       "      <td>5.0</td>\n",
       "      <td>02:02:58</td>\n",
       "    </tr>\n",
       "    <tr>\n",
       "      <th>3</th>\n",
       "      <td>M</td>\n",
       "      <td>1120</td>\n",
       "      <td>Donau Run Ingolstadt</td>\n",
       "      <td>4</td>\n",
       "      <td>OSTERMEIR Lukas</td>\n",
       "      <td>DEU</td>\n",
       "      <td>00:23:02</td>\n",
       "      <td>4</td>\n",
       "      <td>00:01:53</td>\n",
       "      <td>01:03:49</td>\n",
       "      <td>8</td>\n",
       "      <td>00:02:28</td>\n",
       "      <td>00:34:31</td>\n",
       "      <td>2.0</td>\n",
       "      <td>02:05:42</td>\n",
       "    </tr>\n",
       "    <tr>\n",
       "      <th>4</th>\n",
       "      <td>M</td>\n",
       "      <td>1097</td>\n",
       "      <td>Halberhai e.V Nürnberg.</td>\n",
       "      <td>5</td>\n",
       "      <td>DOWALIL Christoph</td>\n",
       "      <td>DEU</td>\n",
       "      <td>00:23:07</td>\n",
       "      <td>5</td>\n",
       "      <td>00:02:06</td>\n",
       "      <td>01:03:14</td>\n",
       "      <td>5</td>\n",
       "      <td>00:01:50</td>\n",
       "      <td>00:36:06</td>\n",
       "      <td>7.0</td>\n",
       "      <td>02:06:21</td>\n",
       "    </tr>\n",
       "    <tr>\n",
       "      <th>...</th>\n",
       "      <td>...</td>\n",
       "      <td>...</td>\n",
       "      <td>...</td>\n",
       "      <td>...</td>\n",
       "      <td>...</td>\n",
       "      <td>...</td>\n",
       "      <td>...</td>\n",
       "      <td>...</td>\n",
       "      <td>...</td>\n",
       "      <td>...</td>\n",
       "      <td>...</td>\n",
       "      <td>...</td>\n",
       "      <td>...</td>\n",
       "      <td>...</td>\n",
       "      <td>...</td>\n",
       "    </tr>\n",
       "    <tr>\n",
       "      <th>183</th>\n",
       "      <td>F</td>\n",
       "      <td>1090</td>\n",
       "      <td>NaN</td>\n",
       "      <td>35</td>\n",
       "      <td>DISTLER Stephanie</td>\n",
       "      <td>USA</td>\n",
       "      <td>00:44:13</td>\n",
       "      <td>35</td>\n",
       "      <td>00:05:40</td>\n",
       "      <td>01:43:56</td>\n",
       "      <td>36</td>\n",
       "      <td>00:05:09</td>\n",
       "      <td>00:55:51</td>\n",
       "      <td>26.0</td>\n",
       "      <td>03:34:46</td>\n",
       "    </tr>\n",
       "    <tr>\n",
       "      <th>184</th>\n",
       "      <td>F</td>\n",
       "      <td>1071</td>\n",
       "      <td>NaN</td>\n",
       "      <td>36</td>\n",
       "      <td>KLINGSHIRN Carolin</td>\n",
       "      <td>DEU</td>\n",
       "      <td>00:53:55</td>\n",
       "      <td>36</td>\n",
       "      <td>00:09:34</td>\n",
       "      <td>01:29:32</td>\n",
       "      <td>33</td>\n",
       "      <td>00:06:32</td>\n",
       "      <td>01:11:27</td>\n",
       "      <td>36.0</td>\n",
       "      <td>03:50:58</td>\n",
       "    </tr>\n",
       "    <tr>\n",
       "      <th>185</th>\n",
       "      <td>F</td>\n",
       "      <td>1064</td>\n",
       "      <td>Mind2Motion</td>\n",
       "      <td>DNF</td>\n",
       "      <td>SCHWARZ Carolin</td>\n",
       "      <td>DEU</td>\n",
       "      <td>00:34:06</td>\n",
       "      <td>0:34:06</td>\n",
       "      <td>00:03:04</td>\n",
       "      <td>NaN</td>\n",
       "      <td>NaN</td>\n",
       "      <td>NaN</td>\n",
       "      <td>NaN</td>\n",
       "      <td>NaN</td>\n",
       "      <td>NaN</td>\n",
       "    </tr>\n",
       "    <tr>\n",
       "      <th>186</th>\n",
       "      <td>F</td>\n",
       "      <td>1040</td>\n",
       "      <td>Rocket Racing</td>\n",
       "      <td>DNF</td>\n",
       "      <td>GÖBEL Alina</td>\n",
       "      <td>DEU</td>\n",
       "      <td>00:37:13</td>\n",
       "      <td>0:37:13</td>\n",
       "      <td>00:03:09</td>\n",
       "      <td>NaN</td>\n",
       "      <td>NaN</td>\n",
       "      <td>NaN</td>\n",
       "      <td>NaN</td>\n",
       "      <td>NaN</td>\n",
       "      <td>NaN</td>\n",
       "    </tr>\n",
       "    <tr>\n",
       "      <th>187</th>\n",
       "      <td>F</td>\n",
       "      <td>1194</td>\n",
       "      <td>NaN</td>\n",
       "      <td>DNF</td>\n",
       "      <td>MOULSON Aimee</td>\n",
       "      <td>GBR</td>\n",
       "      <td>NaN</td>\n",
       "      <td>NaN</td>\n",
       "      <td>NaN</td>\n",
       "      <td>NaN</td>\n",
       "      <td>NaN</td>\n",
       "      <td>NaN</td>\n",
       "      <td>NaN</td>\n",
       "      <td>NaN</td>\n",
       "      <td>NaN</td>\n",
       "    </tr>\n",
       "  </tbody>\n",
       "</table>\n",
       "<p>188 rows × 15 columns</p>\n",
       "</div>"
      ],
      "text/plain": [
       "    sex   bib                     team place                 name nationality  \\\n",
       "0     M  1197         Post SV Nürnberg     1  RUPPRECHT Alexander         DEU   \n",
       "1     M  1188            Twin Neumarkt     2     WIEDEMANN Matteo         DEU   \n",
       "2     M  1214                      NaN     3    HARTMANN Johannes         DEU   \n",
       "3     M  1120     Donau Run Ingolstadt     4      OSTERMEIR Lukas         DEU   \n",
       "4     M  1097  Halberhai e.V Nürnberg.     5    DOWALIL Christoph         DEU   \n",
       "..   ..   ...                      ...   ...                  ...         ...   \n",
       "183   F  1090                      NaN    35    DISTLER Stephanie         USA   \n",
       "184   F  1071                      NaN    36   KLINGSHIRN Carolin         DEU   \n",
       "185   F  1064              Mind2Motion   DNF      SCHWARZ Carolin         DEU   \n",
       "186   F  1040            Rocket Racing   DNF          GÖBEL Alina         DEU   \n",
       "187   F  1194                      NaN   DNF        MOULSON Aimee         GBR   \n",
       "\n",
       "    swim_time swim_place   t1_time bike_time bike_place   t2_time  run_time  \\\n",
       "0    00:24:17         10  00:01:55  00:58:09          1  00:01:11  00:34:59   \n",
       "1    00:23:51          8  00:01:55  00:59:43          2  00:01:41  00:33:50   \n",
       "2    00:20:53          2  00:02:30  01:02:05          4  00:01:53  00:35:39   \n",
       "3    00:23:02          4  00:01:53  01:03:49          8  00:02:28  00:34:31   \n",
       "4    00:23:07          5  00:02:06  01:03:14          5  00:01:50  00:36:06   \n",
       "..        ...        ...       ...       ...        ...       ...       ...   \n",
       "183  00:44:13         35  00:05:40  01:43:56         36  00:05:09  00:55:51   \n",
       "184  00:53:55         36  00:09:34  01:29:32         33  00:06:32  01:11:27   \n",
       "185  00:34:06    0:34:06  00:03:04       NaN        NaN       NaN       NaN   \n",
       "186  00:37:13    0:37:13  00:03:09       NaN        NaN       NaN       NaN   \n",
       "187       NaN        NaN       NaN       NaN        NaN       NaN       NaN   \n",
       "\n",
       "     run_place total_time  \n",
       "0          3.0   02:00:28  \n",
       "1          1.0   02:00:57  \n",
       "2          5.0   02:02:58  \n",
       "3          2.0   02:05:42  \n",
       "4          7.0   02:06:21  \n",
       "..         ...        ...  \n",
       "183       26.0   03:34:46  \n",
       "184       36.0   03:50:58  \n",
       "185        NaN        NaN  \n",
       "186        NaN        NaN  \n",
       "187        NaN        NaN  \n",
       "\n",
       "[188 rows x 15 columns]"
      ]
     },
     "execution_count": 16,
     "metadata": {},
     "output_type": "execute_result"
    }
   ],
   "source": [
    "df = pd.read_csv(\"data.csv\")\n",
    "df"
   ]
  },
  {
   "cell_type": "markdown",
   "metadata": {},
   "source": [
    "Convert the participant data into data about nationalities.\n"
   ]
  },
  {
   "cell_type": "code",
   "execution_count": 20,
   "metadata": {},
   "outputs": [
    {
     "data": {
      "text/html": [
       "<div>\n",
       "<style scoped>\n",
       "    .dataframe tbody tr th:only-of-type {\n",
       "        vertical-align: middle;\n",
       "    }\n",
       "\n",
       "    .dataframe tbody tr th {\n",
       "        vertical-align: top;\n",
       "    }\n",
       "\n",
       "    .dataframe thead th {\n",
       "        text-align: right;\n",
       "    }\n",
       "</style>\n",
       "<table border=\"1\" class=\"dataframe\">\n",
       "  <thead>\n",
       "    <tr style=\"text-align: right;\">\n",
       "      <th></th>\n",
       "      <th>nationality</th>\n",
       "      <th>count</th>\n",
       "      <th>country_name</th>\n",
       "    </tr>\n",
       "  </thead>\n",
       "  <tbody>\n",
       "    <tr>\n",
       "      <th>0</th>\n",
       "      <td>ARG</td>\n",
       "      <td>1</td>\n",
       "      <td>Argentina</td>\n",
       "    </tr>\n",
       "    <tr>\n",
       "      <th>1</th>\n",
       "      <td>AUT</td>\n",
       "      <td>1</td>\n",
       "      <td>Austria</td>\n",
       "    </tr>\n",
       "    <tr>\n",
       "      <th>2</th>\n",
       "      <td>CHE</td>\n",
       "      <td>1</td>\n",
       "      <td>Switzerland</td>\n",
       "    </tr>\n",
       "    <tr>\n",
       "      <th>3</th>\n",
       "      <td>DEU</td>\n",
       "      <td>171</td>\n",
       "      <td>Germany</td>\n",
       "    </tr>\n",
       "    <tr>\n",
       "      <th>4</th>\n",
       "      <td>DNK</td>\n",
       "      <td>1</td>\n",
       "      <td>Denmark</td>\n",
       "    </tr>\n",
       "    <tr>\n",
       "      <th>5</th>\n",
       "      <td>ESP</td>\n",
       "      <td>1</td>\n",
       "      <td>Spain</td>\n",
       "    </tr>\n",
       "    <tr>\n",
       "      <th>6</th>\n",
       "      <td>FRA</td>\n",
       "      <td>4</td>\n",
       "      <td>France</td>\n",
       "    </tr>\n",
       "    <tr>\n",
       "      <th>7</th>\n",
       "      <td>GBR</td>\n",
       "      <td>3</td>\n",
       "      <td>United Kingdom</td>\n",
       "    </tr>\n",
       "    <tr>\n",
       "      <th>8</th>\n",
       "      <td>HRV</td>\n",
       "      <td>1</td>\n",
       "      <td>Croatia</td>\n",
       "    </tr>\n",
       "    <tr>\n",
       "      <th>9</th>\n",
       "      <td>ITA</td>\n",
       "      <td>1</td>\n",
       "      <td>Italy</td>\n",
       "    </tr>\n",
       "    <tr>\n",
       "      <th>10</th>\n",
       "      <td>ROU</td>\n",
       "      <td>1</td>\n",
       "      <td>Romania</td>\n",
       "    </tr>\n",
       "    <tr>\n",
       "      <th>11</th>\n",
       "      <td>USA</td>\n",
       "      <td>1</td>\n",
       "      <td>United States</td>\n",
       "    </tr>\n",
       "    <tr>\n",
       "      <th>12</th>\n",
       "      <td>ZAF</td>\n",
       "      <td>1</td>\n",
       "      <td>South Africa</td>\n",
       "    </tr>\n",
       "  </tbody>\n",
       "</table>\n",
       "</div>"
      ],
      "text/plain": [
       "   nationality  count    country_name\n",
       "0          ARG      1       Argentina\n",
       "1          AUT      1         Austria\n",
       "2          CHE      1     Switzerland\n",
       "3          DEU    171         Germany\n",
       "4          DNK      1         Denmark\n",
       "5          ESP      1           Spain\n",
       "6          FRA      4          France\n",
       "7          GBR      3  United Kingdom\n",
       "8          HRV      1         Croatia\n",
       "9          ITA      1           Italy\n",
       "10         ROU      1         Romania\n",
       "11         USA      1   United States\n",
       "12         ZAF      1    South Africa"
      ]
     },
     "execution_count": 20,
     "metadata": {},
     "output_type": "execute_result"
    }
   ],
   "source": [
    "nationalities = df.groupby(\"nationality\").size().reset_index()\n",
    "\n",
    "iso_to_country = {\n",
    "    \"ARG\": \"Argentina\",\n",
    "    \"AUT\": \"Austria\",\n",
    "    \"CHE\": \"Switzerland\",\n",
    "    \"DEU\": \"Germany\",\n",
    "    \"DNK\": \"Denmark\",\n",
    "    \"ESP\": \"Spain\",\n",
    "    \"FRA\": \"France\",\n",
    "    \"GBR\": \"United Kingdom\",\n",
    "    \"HRV\": \"Croatia\",\n",
    "    \"ITA\": \"Italy\",\n",
    "    \"ROU\": \"Romania\",\n",
    "    \"USA\": \"United States\",\n",
    "    \"ZAF\": \"South Africa\",\n",
    "}\n",
    "\n",
    "nationalities[\"country_name\"] = nationalities[\"nationality\"].map(iso_to_country)\n",
    "nationalities = nationalities.rename(columns={0: \"count\"})\n",
    "nationalities"
   ]
  },
  {
   "cell_type": "markdown",
   "metadata": {},
   "source": [
    "Create a new column to categorize countries based on number of participants.\n"
   ]
  },
  {
   "cell_type": "code",
   "execution_count": 21,
   "metadata": {},
   "outputs": [
    {
     "data": {
      "text/html": [
       "<div>\n",
       "<style scoped>\n",
       "    .dataframe tbody tr th:only-of-type {\n",
       "        vertical-align: middle;\n",
       "    }\n",
       "\n",
       "    .dataframe tbody tr th {\n",
       "        vertical-align: top;\n",
       "    }\n",
       "\n",
       "    .dataframe thead th {\n",
       "        text-align: right;\n",
       "    }\n",
       "</style>\n",
       "<table border=\"1\" class=\"dataframe\">\n",
       "  <thead>\n",
       "    <tr style=\"text-align: right;\">\n",
       "      <th></th>\n",
       "      <th>nationality</th>\n",
       "      <th>count</th>\n",
       "      <th>country_name</th>\n",
       "      <th>category</th>\n",
       "    </tr>\n",
       "  </thead>\n",
       "  <tbody>\n",
       "    <tr>\n",
       "      <th>0</th>\n",
       "      <td>ARG</td>\n",
       "      <td>1</td>\n",
       "      <td>Argentina</td>\n",
       "      <td>Exactly 1</td>\n",
       "    </tr>\n",
       "    <tr>\n",
       "      <th>1</th>\n",
       "      <td>AUT</td>\n",
       "      <td>1</td>\n",
       "      <td>Austria</td>\n",
       "      <td>Exactly 1</td>\n",
       "    </tr>\n",
       "    <tr>\n",
       "      <th>2</th>\n",
       "      <td>CHE</td>\n",
       "      <td>1</td>\n",
       "      <td>Switzerland</td>\n",
       "      <td>Exactly 1</td>\n",
       "    </tr>\n",
       "    <tr>\n",
       "      <th>3</th>\n",
       "      <td>DEU</td>\n",
       "      <td>171</td>\n",
       "      <td>Germany</td>\n",
       "      <td>More than 100</td>\n",
       "    </tr>\n",
       "    <tr>\n",
       "      <th>4</th>\n",
       "      <td>DNK</td>\n",
       "      <td>1</td>\n",
       "      <td>Denmark</td>\n",
       "      <td>Exactly 1</td>\n",
       "    </tr>\n",
       "    <tr>\n",
       "      <th>5</th>\n",
       "      <td>ESP</td>\n",
       "      <td>1</td>\n",
       "      <td>Spain</td>\n",
       "      <td>Exactly 1</td>\n",
       "    </tr>\n",
       "    <tr>\n",
       "      <th>6</th>\n",
       "      <td>FRA</td>\n",
       "      <td>4</td>\n",
       "      <td>France</td>\n",
       "      <td>More than 1</td>\n",
       "    </tr>\n",
       "    <tr>\n",
       "      <th>7</th>\n",
       "      <td>GBR</td>\n",
       "      <td>3</td>\n",
       "      <td>United Kingdom</td>\n",
       "      <td>More than 1</td>\n",
       "    </tr>\n",
       "    <tr>\n",
       "      <th>8</th>\n",
       "      <td>HRV</td>\n",
       "      <td>1</td>\n",
       "      <td>Croatia</td>\n",
       "      <td>Exactly 1</td>\n",
       "    </tr>\n",
       "    <tr>\n",
       "      <th>9</th>\n",
       "      <td>ITA</td>\n",
       "      <td>1</td>\n",
       "      <td>Italy</td>\n",
       "      <td>Exactly 1</td>\n",
       "    </tr>\n",
       "    <tr>\n",
       "      <th>10</th>\n",
       "      <td>ROU</td>\n",
       "      <td>1</td>\n",
       "      <td>Romania</td>\n",
       "      <td>Exactly 1</td>\n",
       "    </tr>\n",
       "    <tr>\n",
       "      <th>11</th>\n",
       "      <td>USA</td>\n",
       "      <td>1</td>\n",
       "      <td>United States</td>\n",
       "      <td>Exactly 1</td>\n",
       "    </tr>\n",
       "    <tr>\n",
       "      <th>12</th>\n",
       "      <td>ZAF</td>\n",
       "      <td>1</td>\n",
       "      <td>South Africa</td>\n",
       "      <td>Exactly 1</td>\n",
       "    </tr>\n",
       "  </tbody>\n",
       "</table>\n",
       "</div>"
      ],
      "text/plain": [
       "   nationality  count    country_name       category\n",
       "0          ARG      1       Argentina      Exactly 1\n",
       "1          AUT      1         Austria      Exactly 1\n",
       "2          CHE      1     Switzerland      Exactly 1\n",
       "3          DEU    171         Germany  More than 100\n",
       "4          DNK      1         Denmark      Exactly 1\n",
       "5          ESP      1           Spain      Exactly 1\n",
       "6          FRA      4          France    More than 1\n",
       "7          GBR      3  United Kingdom    More than 1\n",
       "8          HRV      1         Croatia      Exactly 1\n",
       "9          ITA      1           Italy      Exactly 1\n",
       "10         ROU      1         Romania      Exactly 1\n",
       "11         USA      1   United States      Exactly 1\n",
       "12         ZAF      1    South Africa      Exactly 1"
      ]
     },
     "execution_count": 21,
     "metadata": {},
     "output_type": "execute_result"
    }
   ],
   "source": [
    "def categorize_count(count):\n",
    "    if count == 1:\n",
    "        return \"Exactly 1\"\n",
    "    elif count > 1 and count <= 100:\n",
    "        return \"More than 1\"\n",
    "    elif count > 100:\n",
    "        return \"More than 100\"\n",
    "\n",
    "\n",
    "nationalities[\"category\"] = nationalities[\"count\"].apply(categorize_count)\n",
    "nationalities"
   ]
  },
  {
   "cell_type": "code",
   "execution_count": 22,
   "metadata": {},
   "outputs": [
    {
     "data": {
      "application/vnd.plotly.v1+json": {
       "config": {
        "plotlyServerURL": "https://plot.ly"
       },
       "data": [
        {
         "colorscale": [
          [
           0,
           "blue"
          ],
          [
           1,
           "blue"
          ]
         ],
         "customdata": [
          [
           1,
           "Argentina",
           "Exactly 1",
           "ARG"
          ],
          [
           1,
           "Austria",
           "Exactly 1",
           "AUT"
          ],
          [
           1,
           "Switzerland",
           "Exactly 1",
           "CHE"
          ],
          [
           1,
           "Denmark",
           "Exactly 1",
           "DNK"
          ],
          [
           1,
           "Spain",
           "Exactly 1",
           "ESP"
          ],
          [
           1,
           "Croatia",
           "Exactly 1",
           "HRV"
          ],
          [
           1,
           "Italy",
           "Exactly 1",
           "ITA"
          ],
          [
           1,
           "Romania",
           "Exactly 1",
           "ROU"
          ],
          [
           1,
           "United States",
           "Exactly 1",
           "USA"
          ],
          [
           1,
           "South Africa",
           "Exactly 1",
           "ZAF"
          ]
         ],
         "geo": "geo",
         "hovertemplate": "<b>%{hovertext}</b><br>Number of Participants: %{customdata[0]}<extra></extra>",
         "hovertext": [
          "Argentina",
          "Austria",
          "Switzerland",
          "Denmark",
          "Spain",
          "Croatia",
          "Italy",
          "Romania",
          "United States",
          "South Africa"
         ],
         "locationmode": "ISO-3",
         "locations": [
          "ARG",
          "AUT",
          "CHE",
          "DNK",
          "ESP",
          "HRV",
          "ITA",
          "ROU",
          "USA",
          "ZAF"
         ],
         "name": "Exactly 1",
         "showlegend": true,
         "showscale": false,
         "type": "choropleth",
         "z": [
          1,
          1,
          1,
          1,
          1,
          1,
          1,
          1,
          1,
          1
         ]
        },
        {
         "colorscale": [
          [
           0,
           "green"
          ],
          [
           1,
           "green"
          ]
         ],
         "customdata": [
          [
           4,
           "France",
           "More than 1",
           "FRA"
          ],
          [
           3,
           "United Kingdom",
           "More than 1",
           "GBR"
          ]
         ],
         "geo": "geo",
         "hovertemplate": "<b>%{hovertext}</b><br>Number of Participants: %{customdata[0]}<extra></extra>",
         "hovertext": [
          "France",
          "United Kingdom"
         ],
         "locationmode": "ISO-3",
         "locations": [
          "FRA",
          "GBR"
         ],
         "name": "More than 1",
         "showlegend": true,
         "showscale": false,
         "type": "choropleth",
         "z": [
          1,
          1
         ]
        },
        {
         "colorscale": [
          [
           0,
           "red"
          ],
          [
           1,
           "red"
          ]
         ],
         "customdata": [
          [
           171,
           "Germany",
           "More than 100",
           "DEU"
          ]
         ],
         "geo": "geo",
         "hovertemplate": "<b>%{hovertext}</b><br>Number of Participants: %{customdata[0]}<extra></extra>",
         "hovertext": [
          "Germany"
         ],
         "locationmode": "ISO-3",
         "locations": [
          "DEU"
         ],
         "name": "More than 100",
         "showlegend": true,
         "showscale": false,
         "type": "choropleth",
         "z": [
          1
         ]
        }
       ],
       "layout": {
        "geo": {
         "center": {},
         "domain": {
          "x": [
           0,
           1
          ],
          "y": [
           0,
           1
          ]
         },
         "visible": true
        },
        "height": 600,
        "legend": {
         "orientation": "v",
         "title": {
          "text": ""
         },
         "tracegroupgap": 0,
         "x": 1,
         "xanchor": "left",
         "y": 0.5,
         "yanchor": "middle"
        },
        "template": {
         "data": {
          "bar": [
           {
            "error_x": {
             "color": "#2a3f5f"
            },
            "error_y": {
             "color": "#2a3f5f"
            },
            "marker": {
             "line": {
              "color": "#E5ECF6",
              "width": 0.5
             },
             "pattern": {
              "fillmode": "overlay",
              "size": 10,
              "solidity": 0.2
             }
            },
            "type": "bar"
           }
          ],
          "barpolar": [
           {
            "marker": {
             "line": {
              "color": "#E5ECF6",
              "width": 0.5
             },
             "pattern": {
              "fillmode": "overlay",
              "size": 10,
              "solidity": 0.2
             }
            },
            "type": "barpolar"
           }
          ],
          "carpet": [
           {
            "aaxis": {
             "endlinecolor": "#2a3f5f",
             "gridcolor": "white",
             "linecolor": "white",
             "minorgridcolor": "white",
             "startlinecolor": "#2a3f5f"
            },
            "baxis": {
             "endlinecolor": "#2a3f5f",
             "gridcolor": "white",
             "linecolor": "white",
             "minorgridcolor": "white",
             "startlinecolor": "#2a3f5f"
            },
            "type": "carpet"
           }
          ],
          "choropleth": [
           {
            "colorbar": {
             "outlinewidth": 0,
             "ticks": ""
            },
            "type": "choropleth"
           }
          ],
          "contour": [
           {
            "colorbar": {
             "outlinewidth": 0,
             "ticks": ""
            },
            "colorscale": [
             [
              0,
              "#0d0887"
             ],
             [
              0.1111111111111111,
              "#46039f"
             ],
             [
              0.2222222222222222,
              "#7201a8"
             ],
             [
              0.3333333333333333,
              "#9c179e"
             ],
             [
              0.4444444444444444,
              "#bd3786"
             ],
             [
              0.5555555555555556,
              "#d8576b"
             ],
             [
              0.6666666666666666,
              "#ed7953"
             ],
             [
              0.7777777777777778,
              "#fb9f3a"
             ],
             [
              0.8888888888888888,
              "#fdca26"
             ],
             [
              1,
              "#f0f921"
             ]
            ],
            "type": "contour"
           }
          ],
          "contourcarpet": [
           {
            "colorbar": {
             "outlinewidth": 0,
             "ticks": ""
            },
            "type": "contourcarpet"
           }
          ],
          "heatmap": [
           {
            "colorbar": {
             "outlinewidth": 0,
             "ticks": ""
            },
            "colorscale": [
             [
              0,
              "#0d0887"
             ],
             [
              0.1111111111111111,
              "#46039f"
             ],
             [
              0.2222222222222222,
              "#7201a8"
             ],
             [
              0.3333333333333333,
              "#9c179e"
             ],
             [
              0.4444444444444444,
              "#bd3786"
             ],
             [
              0.5555555555555556,
              "#d8576b"
             ],
             [
              0.6666666666666666,
              "#ed7953"
             ],
             [
              0.7777777777777778,
              "#fb9f3a"
             ],
             [
              0.8888888888888888,
              "#fdca26"
             ],
             [
              1,
              "#f0f921"
             ]
            ],
            "type": "heatmap"
           }
          ],
          "heatmapgl": [
           {
            "colorbar": {
             "outlinewidth": 0,
             "ticks": ""
            },
            "colorscale": [
             [
              0,
              "#0d0887"
             ],
             [
              0.1111111111111111,
              "#46039f"
             ],
             [
              0.2222222222222222,
              "#7201a8"
             ],
             [
              0.3333333333333333,
              "#9c179e"
             ],
             [
              0.4444444444444444,
              "#bd3786"
             ],
             [
              0.5555555555555556,
              "#d8576b"
             ],
             [
              0.6666666666666666,
              "#ed7953"
             ],
             [
              0.7777777777777778,
              "#fb9f3a"
             ],
             [
              0.8888888888888888,
              "#fdca26"
             ],
             [
              1,
              "#f0f921"
             ]
            ],
            "type": "heatmapgl"
           }
          ],
          "histogram": [
           {
            "marker": {
             "pattern": {
              "fillmode": "overlay",
              "size": 10,
              "solidity": 0.2
             }
            },
            "type": "histogram"
           }
          ],
          "histogram2d": [
           {
            "colorbar": {
             "outlinewidth": 0,
             "ticks": ""
            },
            "colorscale": [
             [
              0,
              "#0d0887"
             ],
             [
              0.1111111111111111,
              "#46039f"
             ],
             [
              0.2222222222222222,
              "#7201a8"
             ],
             [
              0.3333333333333333,
              "#9c179e"
             ],
             [
              0.4444444444444444,
              "#bd3786"
             ],
             [
              0.5555555555555556,
              "#d8576b"
             ],
             [
              0.6666666666666666,
              "#ed7953"
             ],
             [
              0.7777777777777778,
              "#fb9f3a"
             ],
             [
              0.8888888888888888,
              "#fdca26"
             ],
             [
              1,
              "#f0f921"
             ]
            ],
            "type": "histogram2d"
           }
          ],
          "histogram2dcontour": [
           {
            "colorbar": {
             "outlinewidth": 0,
             "ticks": ""
            },
            "colorscale": [
             [
              0,
              "#0d0887"
             ],
             [
              0.1111111111111111,
              "#46039f"
             ],
             [
              0.2222222222222222,
              "#7201a8"
             ],
             [
              0.3333333333333333,
              "#9c179e"
             ],
             [
              0.4444444444444444,
              "#bd3786"
             ],
             [
              0.5555555555555556,
              "#d8576b"
             ],
             [
              0.6666666666666666,
              "#ed7953"
             ],
             [
              0.7777777777777778,
              "#fb9f3a"
             ],
             [
              0.8888888888888888,
              "#fdca26"
             ],
             [
              1,
              "#f0f921"
             ]
            ],
            "type": "histogram2dcontour"
           }
          ],
          "mesh3d": [
           {
            "colorbar": {
             "outlinewidth": 0,
             "ticks": ""
            },
            "type": "mesh3d"
           }
          ],
          "parcoords": [
           {
            "line": {
             "colorbar": {
              "outlinewidth": 0,
              "ticks": ""
             }
            },
            "type": "parcoords"
           }
          ],
          "pie": [
           {
            "automargin": true,
            "type": "pie"
           }
          ],
          "scatter": [
           {
            "fillpattern": {
             "fillmode": "overlay",
             "size": 10,
             "solidity": 0.2
            },
            "type": "scatter"
           }
          ],
          "scatter3d": [
           {
            "line": {
             "colorbar": {
              "outlinewidth": 0,
              "ticks": ""
             }
            },
            "marker": {
             "colorbar": {
              "outlinewidth": 0,
              "ticks": ""
             }
            },
            "type": "scatter3d"
           }
          ],
          "scattercarpet": [
           {
            "marker": {
             "colorbar": {
              "outlinewidth": 0,
              "ticks": ""
             }
            },
            "type": "scattercarpet"
           }
          ],
          "scattergeo": [
           {
            "marker": {
             "colorbar": {
              "outlinewidth": 0,
              "ticks": ""
             }
            },
            "type": "scattergeo"
           }
          ],
          "scattergl": [
           {
            "marker": {
             "colorbar": {
              "outlinewidth": 0,
              "ticks": ""
             }
            },
            "type": "scattergl"
           }
          ],
          "scattermapbox": [
           {
            "marker": {
             "colorbar": {
              "outlinewidth": 0,
              "ticks": ""
             }
            },
            "type": "scattermapbox"
           }
          ],
          "scatterpolar": [
           {
            "marker": {
             "colorbar": {
              "outlinewidth": 0,
              "ticks": ""
             }
            },
            "type": "scatterpolar"
           }
          ],
          "scatterpolargl": [
           {
            "marker": {
             "colorbar": {
              "outlinewidth": 0,
              "ticks": ""
             }
            },
            "type": "scatterpolargl"
           }
          ],
          "scatterternary": [
           {
            "marker": {
             "colorbar": {
              "outlinewidth": 0,
              "ticks": ""
             }
            },
            "type": "scatterternary"
           }
          ],
          "surface": [
           {
            "colorbar": {
             "outlinewidth": 0,
             "ticks": ""
            },
            "colorscale": [
             [
              0,
              "#0d0887"
             ],
             [
              0.1111111111111111,
              "#46039f"
             ],
             [
              0.2222222222222222,
              "#7201a8"
             ],
             [
              0.3333333333333333,
              "#9c179e"
             ],
             [
              0.4444444444444444,
              "#bd3786"
             ],
             [
              0.5555555555555556,
              "#d8576b"
             ],
             [
              0.6666666666666666,
              "#ed7953"
             ],
             [
              0.7777777777777778,
              "#fb9f3a"
             ],
             [
              0.8888888888888888,
              "#fdca26"
             ],
             [
              1,
              "#f0f921"
             ]
            ],
            "type": "surface"
           }
          ],
          "table": [
           {
            "cells": {
             "fill": {
              "color": "#EBF0F8"
             },
             "line": {
              "color": "white"
             }
            },
            "header": {
             "fill": {
              "color": "#C8D4E3"
             },
             "line": {
              "color": "white"
             }
            },
            "type": "table"
           }
          ]
         },
         "layout": {
          "annotationdefaults": {
           "arrowcolor": "#2a3f5f",
           "arrowhead": 0,
           "arrowwidth": 1
          },
          "autotypenumbers": "strict",
          "coloraxis": {
           "colorbar": {
            "outlinewidth": 0,
            "ticks": ""
           }
          },
          "colorscale": {
           "diverging": [
            [
             0,
             "#8e0152"
            ],
            [
             0.1,
             "#c51b7d"
            ],
            [
             0.2,
             "#de77ae"
            ],
            [
             0.3,
             "#f1b6da"
            ],
            [
             0.4,
             "#fde0ef"
            ],
            [
             0.5,
             "#f7f7f7"
            ],
            [
             0.6,
             "#e6f5d0"
            ],
            [
             0.7,
             "#b8e186"
            ],
            [
             0.8,
             "#7fbc41"
            ],
            [
             0.9,
             "#4d9221"
            ],
            [
             1,
             "#276419"
            ]
           ],
           "sequential": [
            [
             0,
             "#0d0887"
            ],
            [
             0.1111111111111111,
             "#46039f"
            ],
            [
             0.2222222222222222,
             "#7201a8"
            ],
            [
             0.3333333333333333,
             "#9c179e"
            ],
            [
             0.4444444444444444,
             "#bd3786"
            ],
            [
             0.5555555555555556,
             "#d8576b"
            ],
            [
             0.6666666666666666,
             "#ed7953"
            ],
            [
             0.7777777777777778,
             "#fb9f3a"
            ],
            [
             0.8888888888888888,
             "#fdca26"
            ],
            [
             1,
             "#f0f921"
            ]
           ],
           "sequentialminus": [
            [
             0,
             "#0d0887"
            ],
            [
             0.1111111111111111,
             "#46039f"
            ],
            [
             0.2222222222222222,
             "#7201a8"
            ],
            [
             0.3333333333333333,
             "#9c179e"
            ],
            [
             0.4444444444444444,
             "#bd3786"
            ],
            [
             0.5555555555555556,
             "#d8576b"
            ],
            [
             0.6666666666666666,
             "#ed7953"
            ],
            [
             0.7777777777777778,
             "#fb9f3a"
            ],
            [
             0.8888888888888888,
             "#fdca26"
            ],
            [
             1,
             "#f0f921"
            ]
           ]
          },
          "colorway": [
           "#636efa",
           "#EF553B",
           "#00cc96",
           "#ab63fa",
           "#FFA15A",
           "#19d3f3",
           "#FF6692",
           "#B6E880",
           "#FF97FF",
           "#FECB52"
          ],
          "font": {
           "color": "#2a3f5f"
          },
          "geo": {
           "bgcolor": "white",
           "lakecolor": "white",
           "landcolor": "#E5ECF6",
           "showlakes": true,
           "showland": true,
           "subunitcolor": "white"
          },
          "hoverlabel": {
           "align": "left"
          },
          "hovermode": "closest",
          "mapbox": {
           "style": "light"
          },
          "paper_bgcolor": "white",
          "plot_bgcolor": "#E5ECF6",
          "polar": {
           "angularaxis": {
            "gridcolor": "white",
            "linecolor": "white",
            "ticks": ""
           },
           "bgcolor": "#E5ECF6",
           "radialaxis": {
            "gridcolor": "white",
            "linecolor": "white",
            "ticks": ""
           }
          },
          "scene": {
           "xaxis": {
            "backgroundcolor": "#E5ECF6",
            "gridcolor": "white",
            "gridwidth": 2,
            "linecolor": "white",
            "showbackground": true,
            "ticks": "",
            "zerolinecolor": "white"
           },
           "yaxis": {
            "backgroundcolor": "#E5ECF6",
            "gridcolor": "white",
            "gridwidth": 2,
            "linecolor": "white",
            "showbackground": true,
            "ticks": "",
            "zerolinecolor": "white"
           },
           "zaxis": {
            "backgroundcolor": "#E5ECF6",
            "gridcolor": "white",
            "gridwidth": 2,
            "linecolor": "white",
            "showbackground": true,
            "ticks": "",
            "zerolinecolor": "white"
           }
          },
          "shapedefaults": {
           "line": {
            "color": "#2a3f5f"
           }
          },
          "ternary": {
           "aaxis": {
            "gridcolor": "white",
            "linecolor": "white",
            "ticks": ""
           },
           "baxis": {
            "gridcolor": "white",
            "linecolor": "white",
            "ticks": ""
           },
           "bgcolor": "#E5ECF6",
           "caxis": {
            "gridcolor": "white",
            "linecolor": "white",
            "ticks": ""
           }
          },
          "title": {
           "x": 0.05
          },
          "xaxis": {
           "automargin": true,
           "gridcolor": "white",
           "linecolor": "white",
           "ticks": "",
           "title": {
            "standoff": 15
           },
           "zerolinecolor": "white",
           "zerolinewidth": 2
          },
          "yaxis": {
           "automargin": true,
           "gridcolor": "white",
           "linecolor": "white",
           "ticks": "",
           "title": {
            "standoff": 15
           },
           "zerolinecolor": "white",
           "zerolinewidth": 2
          }
         }
        },
        "title": {
         "text": "Participants' nationalities - DATAGROUP Triathlon 2024<br><sup>Olympic Distance Male & Female</sup>",
         "x": 0.5,
         "xanchor": "center",
         "y": 0.95,
         "yanchor": "top"
        },
        "width": 1000
       }
      }
     },
     "metadata": {},
     "output_type": "display_data"
    }
   ],
   "source": [
    "fig = px.choropleth(\n",
    "    nationalities,\n",
    "    locations=\"nationality\",\n",
    "    locationmode=\"ISO-3\",\n",
    "    basemap_visible=True,\n",
    "    color=\"category\",\n",
    "    title=\"Participants' nationalities - DATAGROUP Triathlon 2024\",\n",
    "    hover_name=\"country_name\",\n",
    "    category_orders={\"category\": [\"Exactly 1\", \"More than 1\", \"More than 100\"]},\n",
    "    color_discrete_map={\n",
    "        \"Exactly 1\": \"blue\",\n",
    "        \"More than 1\": \"green\",\n",
    "        \"More than 100\": \"red\",\n",
    "    },\n",
    "    hover_data={\n",
    "        \"count\": True,\n",
    "        \"country_name\": False,\n",
    "        \"category\": False,\n",
    "        \"nationality\": False,\n",
    "    },\n",
    ")\n",
    "\n",
    "\n",
    "fig.update_traces(\n",
    "    hovertemplate=\"<b>%{hovertext}</b><br>Number of Participants: %{customdata[0]}<extra></extra>\"\n",
    ")\n",
    "\n",
    "\n",
    "fig.update_layout(\n",
    "    title={\n",
    "        \"text\": \"Participants' nationalities - DATAGROUP Triathlon 2024<br><sup>Olympic Distance Male & Female</sup>\",\n",
    "        \"y\": 0.95,  # Vertical position of the title\n",
    "        \"x\": 0.5,  # Horizontal center\n",
    "        \"xanchor\": \"center\",  # Ensures the title is centered\n",
    "        \"yanchor\": \"top\",  # Aligns it from the top\n",
    "    },\n",
    "    legend_title_text=\"\",\n",
    "    legend=dict(\n",
    "        x=1,  # Position the legend on the right side (1 is far right)\n",
    "        y=0.5,  # Position the legend in the middle vertically\n",
    "        xanchor=\"left\",  # Anchor the legend by its left side\n",
    "        yanchor=\"middle\",  # Anchor the legend by its middle\n",
    "        orientation=\"v\",  # Vertical orientation of the legend\n",
    "    ),\n",
    "    width=1000,\n",
    "    height=600,\n",
    ")\n",
    "\n",
    "fig.show()"
   ]
  }
 ],
 "metadata": {
  "kernelspec": {
   "display_name": "Python 3",
   "language": "python",
   "name": "python3"
  },
  "language_info": {
   "codemirror_mode": {
    "name": "ipython",
    "version": 3
   },
   "file_extension": ".py",
   "mimetype": "text/x-python",
   "name": "python",
   "nbconvert_exporter": "python",
   "pygments_lexer": "ipython3",
   "version": "3.10.12"
  }
 },
 "nbformat": 4,
 "nbformat_minor": 2
}
