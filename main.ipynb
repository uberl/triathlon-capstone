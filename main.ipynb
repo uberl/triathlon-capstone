{
 "cells": [
  {
   "cell_type": "markdown",
   "metadata": {},
   "source": [
    "Prepare\n",
    "\n",
    "First I downloaded the raw data from the webpage to \"list.json\". This is the original file used in the webpage to display the results in HTML format.\n",
    "The premise is that whatever works works. I don't put emphasis on reusability or usage of pandas, instead I ran the below cell twice and edited the output file, changing the team attribute to capture only teams and accounting for different user inputs of the same team name, but also adding a sex attribute.\n",
    "To extract and structure all relevant information we run scripts like the following.\n"
   ]
  },
  {
   "cell_type": "code",
   "execution_count": 1,
   "metadata": {},
   "outputs": [
    {
     "name": "stdout",
     "output_type": "stream",
     "text": [
      "Data appended successfully!\n"
     ]
    }
   ],
   "source": [
    "import csv\n",
    "import json\n",
    "\n",
    "with open(\"list.json\", \"r\") as file:\n",
    "    raw_data = json.load(file)\n",
    "\n",
    "    data = [\n",
    "        {\n",
    "            \"bib\": d[0],\n",
    "            \"team\": d[5],\n",
    "            \"place\": d[1].replace(\".\", \"\"),\n",
    "            \"name\": d[3],\n",
    "            \"nationality\": d[4],\n",
    "            \"swim_time\": d[6].split(\" \")[0],\n",
    "            \"swim_place\": d[6].split(\" \")[-1].replace(\".\", \"\"),\n",
    "            \"t1_time\": d[7],\n",
    "            \"bike_time\": d[8].split(\" \")[0],\n",
    "            \"bike_place\": d[8].split(\" \")[-1].replace(\".\", \"\"),\n",
    "            \"t2_time\": d[9],\n",
    "            \"run_time\": d[10].split(\" \")[0],\n",
    "            \"run_place\": d[10].split(\" \")[-1].replace(\".\", \"\"),\n",
    "            \"total_time\": d[11],\n",
    "        }\n",
    "        for d in raw_data[\"data\"][\"#2_Frauen\"]\n",
    "    ]\n",
    "\n",
    "    # CSV file path\n",
    "    csv_file = \"data.csv\"\n",
    "\n",
    "    # Open the file in append mode\n",
    "    with open(csv_file, \"a\", newline=\"\") as file:\n",
    "        # Get the fieldnames from the first dictionary\n",
    "        fieldnames = data[0].keys()\n",
    "\n",
    "        # Create a DictWriter object\n",
    "        writer = csv.DictWriter(file, fieldnames=fieldnames)\n",
    "\n",
    "        # Write the data (without writing the header again)\n",
    "        # writer.writerows(data)\n",
    "\n",
    "    print(\"Data appended successfully!\")"
   ]
  },
  {
   "cell_type": "code",
   "execution_count": 2,
   "metadata": {},
   "outputs": [],
   "source": [
    "import pandas as pd\n",
    "import matplotlib.pyplot as plt"
   ]
  },
  {
   "cell_type": "markdown",
   "metadata": {},
   "source": [
    "Now we read the csv file into a Pandas DataFrame\n"
   ]
  },
  {
   "cell_type": "code",
   "execution_count": 3,
   "metadata": {},
   "outputs": [
    {
     "data": {
      "text/html": [
       "<div>\n",
       "<style scoped>\n",
       "    .dataframe tbody tr th:only-of-type {\n",
       "        vertical-align: middle;\n",
       "    }\n",
       "\n",
       "    .dataframe tbody tr th {\n",
       "        vertical-align: top;\n",
       "    }\n",
       "\n",
       "    .dataframe thead th {\n",
       "        text-align: right;\n",
       "    }\n",
       "</style>\n",
       "<table border=\"1\" class=\"dataframe\">\n",
       "  <thead>\n",
       "    <tr style=\"text-align: right;\">\n",
       "      <th></th>\n",
       "      <th>sex</th>\n",
       "      <th>bib</th>\n",
       "      <th>team</th>\n",
       "      <th>place</th>\n",
       "      <th>name</th>\n",
       "      <th>nationality</th>\n",
       "      <th>swim_time</th>\n",
       "      <th>swim_place</th>\n",
       "      <th>t1_time</th>\n",
       "      <th>bike_time</th>\n",
       "      <th>bike_place</th>\n",
       "      <th>t2_time</th>\n",
       "      <th>run_time</th>\n",
       "      <th>run_place</th>\n",
       "      <th>total_time</th>\n",
       "    </tr>\n",
       "  </thead>\n",
       "  <tbody>\n",
       "    <tr>\n",
       "      <th>0</th>\n",
       "      <td>M</td>\n",
       "      <td>1197</td>\n",
       "      <td>Post SV Nürnberg</td>\n",
       "      <td>1</td>\n",
       "      <td>RUPPRECHT Alexander</td>\n",
       "      <td>GER</td>\n",
       "      <td>00:24:17</td>\n",
       "      <td>10</td>\n",
       "      <td>00:01:55</td>\n",
       "      <td>00:58:09</td>\n",
       "      <td>1</td>\n",
       "      <td>00:01:11</td>\n",
       "      <td>00:34:59</td>\n",
       "      <td>3.0</td>\n",
       "      <td>02:00:28</td>\n",
       "    </tr>\n",
       "    <tr>\n",
       "      <th>1</th>\n",
       "      <td>M</td>\n",
       "      <td>1188</td>\n",
       "      <td>Twin Neumarkt</td>\n",
       "      <td>2</td>\n",
       "      <td>WIEDEMANN Matteo</td>\n",
       "      <td>GER</td>\n",
       "      <td>00:23:51</td>\n",
       "      <td>8</td>\n",
       "      <td>00:01:55</td>\n",
       "      <td>00:59:43</td>\n",
       "      <td>2</td>\n",
       "      <td>00:01:41</td>\n",
       "      <td>00:33:50</td>\n",
       "      <td>1.0</td>\n",
       "      <td>02:00:57</td>\n",
       "    </tr>\n",
       "    <tr>\n",
       "      <th>2</th>\n",
       "      <td>M</td>\n",
       "      <td>1214</td>\n",
       "      <td>NaN</td>\n",
       "      <td>3</td>\n",
       "      <td>HARTMANN Johannes</td>\n",
       "      <td>GER</td>\n",
       "      <td>00:20:53</td>\n",
       "      <td>2</td>\n",
       "      <td>00:02:30</td>\n",
       "      <td>01:02:05</td>\n",
       "      <td>4</td>\n",
       "      <td>00:01:53</td>\n",
       "      <td>00:35:39</td>\n",
       "      <td>5.0</td>\n",
       "      <td>02:02:58</td>\n",
       "    </tr>\n",
       "    <tr>\n",
       "      <th>3</th>\n",
       "      <td>M</td>\n",
       "      <td>1120</td>\n",
       "      <td>Donau Run Ingolstadt</td>\n",
       "      <td>4</td>\n",
       "      <td>OSTERMEIR Lukas</td>\n",
       "      <td>GER</td>\n",
       "      <td>00:23:02</td>\n",
       "      <td>4</td>\n",
       "      <td>00:01:53</td>\n",
       "      <td>01:03:49</td>\n",
       "      <td>8</td>\n",
       "      <td>00:02:28</td>\n",
       "      <td>00:34:31</td>\n",
       "      <td>2.0</td>\n",
       "      <td>02:05:42</td>\n",
       "    </tr>\n",
       "    <tr>\n",
       "      <th>4</th>\n",
       "      <td>M</td>\n",
       "      <td>1097</td>\n",
       "      <td>Halberhai e.V Nürnberg.</td>\n",
       "      <td>5</td>\n",
       "      <td>DOWALIL Christoph</td>\n",
       "      <td>GER</td>\n",
       "      <td>00:23:07</td>\n",
       "      <td>5</td>\n",
       "      <td>00:02:06</td>\n",
       "      <td>01:03:14</td>\n",
       "      <td>5</td>\n",
       "      <td>00:01:50</td>\n",
       "      <td>00:36:06</td>\n",
       "      <td>7.0</td>\n",
       "      <td>02:06:21</td>\n",
       "    </tr>\n",
       "    <tr>\n",
       "      <th>...</th>\n",
       "      <td>...</td>\n",
       "      <td>...</td>\n",
       "      <td>...</td>\n",
       "      <td>...</td>\n",
       "      <td>...</td>\n",
       "      <td>...</td>\n",
       "      <td>...</td>\n",
       "      <td>...</td>\n",
       "      <td>...</td>\n",
       "      <td>...</td>\n",
       "      <td>...</td>\n",
       "      <td>...</td>\n",
       "      <td>...</td>\n",
       "      <td>...</td>\n",
       "      <td>...</td>\n",
       "    </tr>\n",
       "    <tr>\n",
       "      <th>183</th>\n",
       "      <td>F</td>\n",
       "      <td>1090</td>\n",
       "      <td>NaN</td>\n",
       "      <td>35</td>\n",
       "      <td>DISTLER Stephanie</td>\n",
       "      <td>USA</td>\n",
       "      <td>00:44:13</td>\n",
       "      <td>35</td>\n",
       "      <td>00:05:40</td>\n",
       "      <td>01:43:56</td>\n",
       "      <td>36</td>\n",
       "      <td>00:05:09</td>\n",
       "      <td>00:55:51</td>\n",
       "      <td>26.0</td>\n",
       "      <td>03:34:46</td>\n",
       "    </tr>\n",
       "    <tr>\n",
       "      <th>184</th>\n",
       "      <td>F</td>\n",
       "      <td>1071</td>\n",
       "      <td>NaN</td>\n",
       "      <td>36</td>\n",
       "      <td>KLINGSHIRN Carolin</td>\n",
       "      <td>GER</td>\n",
       "      <td>00:53:55</td>\n",
       "      <td>36</td>\n",
       "      <td>00:09:34</td>\n",
       "      <td>01:29:32</td>\n",
       "      <td>33</td>\n",
       "      <td>00:06:32</td>\n",
       "      <td>01:11:27</td>\n",
       "      <td>36.0</td>\n",
       "      <td>03:50:58</td>\n",
       "    </tr>\n",
       "    <tr>\n",
       "      <th>185</th>\n",
       "      <td>F</td>\n",
       "      <td>1064</td>\n",
       "      <td>Mind2Motion</td>\n",
       "      <td>DNF</td>\n",
       "      <td>SCHWARZ Carolin</td>\n",
       "      <td>GER</td>\n",
       "      <td>00:34:06</td>\n",
       "      <td>0:34:06</td>\n",
       "      <td>00:03:04</td>\n",
       "      <td>NaN</td>\n",
       "      <td>NaN</td>\n",
       "      <td>NaN</td>\n",
       "      <td>NaN</td>\n",
       "      <td>NaN</td>\n",
       "      <td>NaN</td>\n",
       "    </tr>\n",
       "    <tr>\n",
       "      <th>186</th>\n",
       "      <td>F</td>\n",
       "      <td>1040</td>\n",
       "      <td>Rocket Racing</td>\n",
       "      <td>DNF</td>\n",
       "      <td>GÖBEL Alina</td>\n",
       "      <td>GER</td>\n",
       "      <td>00:37:13</td>\n",
       "      <td>0:37:13</td>\n",
       "      <td>00:03:09</td>\n",
       "      <td>NaN</td>\n",
       "      <td>NaN</td>\n",
       "      <td>NaN</td>\n",
       "      <td>NaN</td>\n",
       "      <td>NaN</td>\n",
       "      <td>NaN</td>\n",
       "    </tr>\n",
       "    <tr>\n",
       "      <th>187</th>\n",
       "      <td>F</td>\n",
       "      <td>1194</td>\n",
       "      <td>NaN</td>\n",
       "      <td>DNF</td>\n",
       "      <td>MOULSON Aimee</td>\n",
       "      <td>GBR</td>\n",
       "      <td>NaN</td>\n",
       "      <td>NaN</td>\n",
       "      <td>NaN</td>\n",
       "      <td>NaN</td>\n",
       "      <td>NaN</td>\n",
       "      <td>NaN</td>\n",
       "      <td>NaN</td>\n",
       "      <td>NaN</td>\n",
       "      <td>NaN</td>\n",
       "    </tr>\n",
       "  </tbody>\n",
       "</table>\n",
       "<p>188 rows × 15 columns</p>\n",
       "</div>"
      ],
      "text/plain": [
       "    sex   bib                     team place                 name nationality  \\\n",
       "0     M  1197         Post SV Nürnberg     1  RUPPRECHT Alexander         GER   \n",
       "1     M  1188            Twin Neumarkt     2     WIEDEMANN Matteo         GER   \n",
       "2     M  1214                      NaN     3    HARTMANN Johannes         GER   \n",
       "3     M  1120     Donau Run Ingolstadt     4      OSTERMEIR Lukas         GER   \n",
       "4     M  1097  Halberhai e.V Nürnberg.     5    DOWALIL Christoph         GER   \n",
       "..   ..   ...                      ...   ...                  ...         ...   \n",
       "183   F  1090                      NaN    35    DISTLER Stephanie         USA   \n",
       "184   F  1071                      NaN    36   KLINGSHIRN Carolin         GER   \n",
       "185   F  1064              Mind2Motion   DNF      SCHWARZ Carolin         GER   \n",
       "186   F  1040            Rocket Racing   DNF          GÖBEL Alina         GER   \n",
       "187   F  1194                      NaN   DNF        MOULSON Aimee         GBR   \n",
       "\n",
       "    swim_time swim_place   t1_time bike_time bike_place   t2_time  run_time  \\\n",
       "0    00:24:17         10  00:01:55  00:58:09          1  00:01:11  00:34:59   \n",
       "1    00:23:51          8  00:01:55  00:59:43          2  00:01:41  00:33:50   \n",
       "2    00:20:53          2  00:02:30  01:02:05          4  00:01:53  00:35:39   \n",
       "3    00:23:02          4  00:01:53  01:03:49          8  00:02:28  00:34:31   \n",
       "4    00:23:07          5  00:02:06  01:03:14          5  00:01:50  00:36:06   \n",
       "..        ...        ...       ...       ...        ...       ...       ...   \n",
       "183  00:44:13         35  00:05:40  01:43:56         36  00:05:09  00:55:51   \n",
       "184  00:53:55         36  00:09:34  01:29:32         33  00:06:32  01:11:27   \n",
       "185  00:34:06    0:34:06  00:03:04       NaN        NaN       NaN       NaN   \n",
       "186  00:37:13    0:37:13  00:03:09       NaN        NaN       NaN       NaN   \n",
       "187       NaN        NaN       NaN       NaN        NaN       NaN       NaN   \n",
       "\n",
       "     run_place total_time  \n",
       "0          3.0   02:00:28  \n",
       "1          1.0   02:00:57  \n",
       "2          5.0   02:02:58  \n",
       "3          2.0   02:05:42  \n",
       "4          7.0   02:06:21  \n",
       "..         ...        ...  \n",
       "183       26.0   03:34:46  \n",
       "184       36.0   03:50:58  \n",
       "185        NaN        NaN  \n",
       "186        NaN        NaN  \n",
       "187        NaN        NaN  \n",
       "\n",
       "[188 rows x 15 columns]"
      ]
     },
     "execution_count": 3,
     "metadata": {},
     "output_type": "execute_result"
    }
   ],
   "source": [
    "df = pd.read_csv(\"data.csv\")\n",
    "df"
   ]
  },
  {
   "cell_type": "markdown",
   "metadata": {},
   "source": [
    "After skimming through the csv file, what we see is that athletes that didn't finish the race (DNF), where disqualified (DSQ) or didn't start (DNS) do not have full datasets, since they didn't finish the race. Hence pandas types most columns as objects:\n"
   ]
  },
  {
   "cell_type": "code",
   "execution_count": 4,
   "metadata": {},
   "outputs": [
    {
     "name": "stdout",
     "output_type": "stream",
     "text": [
      "<class 'pandas.core.frame.DataFrame'>\n",
      "RangeIndex: 188 entries, 0 to 187\n",
      "Data columns (total 15 columns):\n",
      " #   Column       Non-Null Count  Dtype  \n",
      "---  ------       --------------  -----  \n",
      " 0   sex          188 non-null    object \n",
      " 1   bib          188 non-null    int64  \n",
      " 2   team         76 non-null     object \n",
      " 3   place        188 non-null    object \n",
      " 4   name         188 non-null    object \n",
      " 5   nationality  188 non-null    object \n",
      " 6   swim_time    184 non-null    object \n",
      " 7   swim_place   178 non-null    object \n",
      " 8   t1_time      184 non-null    object \n",
      " 9   bike_time    176 non-null    object \n",
      " 10  bike_place   176 non-null    object \n",
      " 11  t2_time      176 non-null    object \n",
      " 12  run_time     175 non-null    object \n",
      " 13  run_place    175 non-null    float64\n",
      " 14  total_time   176 non-null    object \n",
      "dtypes: float64(1), int64(1), object(13)\n",
      "memory usage: 22.2+ KB\n"
     ]
    }
   ],
   "source": [
    "df.info()"
   ]
  },
  {
   "cell_type": "code",
   "execution_count": 5,
   "metadata": {},
   "outputs": [
    {
     "data": {
      "text/html": [
       "<div>\n",
       "<style scoped>\n",
       "    .dataframe tbody tr th:only-of-type {\n",
       "        vertical-align: middle;\n",
       "    }\n",
       "\n",
       "    .dataframe tbody tr th {\n",
       "        vertical-align: top;\n",
       "    }\n",
       "\n",
       "    .dataframe thead th {\n",
       "        text-align: right;\n",
       "    }\n",
       "</style>\n",
       "<table border=\"1\" class=\"dataframe\">\n",
       "  <thead>\n",
       "    <tr style=\"text-align: right;\">\n",
       "      <th></th>\n",
       "      <th>sex</th>\n",
       "      <th>bib</th>\n",
       "      <th>team</th>\n",
       "      <th>place</th>\n",
       "      <th>name</th>\n",
       "      <th>nationality</th>\n",
       "      <th>swim_time</th>\n",
       "      <th>swim_place</th>\n",
       "      <th>t1_time</th>\n",
       "      <th>bike_time</th>\n",
       "      <th>bike_place</th>\n",
       "      <th>t2_time</th>\n",
       "      <th>run_time</th>\n",
       "      <th>run_place</th>\n",
       "      <th>total_time</th>\n",
       "    </tr>\n",
       "  </thead>\n",
       "  <tbody>\n",
       "    <tr>\n",
       "      <th>0</th>\n",
       "      <td>M</td>\n",
       "      <td>1197</td>\n",
       "      <td>Post SV Nürnberg</td>\n",
       "      <td>1</td>\n",
       "      <td>RUPPRECHT Alexander</td>\n",
       "      <td>GER</td>\n",
       "      <td>00:24:17</td>\n",
       "      <td>10</td>\n",
       "      <td>00:01:55</td>\n",
       "      <td>00:58:09</td>\n",
       "      <td>1</td>\n",
       "      <td>00:01:11</td>\n",
       "      <td>00:34:59</td>\n",
       "      <td>3.0</td>\n",
       "      <td>02:00:28</td>\n",
       "    </tr>\n",
       "    <tr>\n",
       "      <th>1</th>\n",
       "      <td>M</td>\n",
       "      <td>1188</td>\n",
       "      <td>Twin Neumarkt</td>\n",
       "      <td>2</td>\n",
       "      <td>WIEDEMANN Matteo</td>\n",
       "      <td>GER</td>\n",
       "      <td>00:23:51</td>\n",
       "      <td>8</td>\n",
       "      <td>00:01:55</td>\n",
       "      <td>00:59:43</td>\n",
       "      <td>2</td>\n",
       "      <td>00:01:41</td>\n",
       "      <td>00:33:50</td>\n",
       "      <td>1.0</td>\n",
       "      <td>02:00:57</td>\n",
       "    </tr>\n",
       "    <tr>\n",
       "      <th>2</th>\n",
       "      <td>M</td>\n",
       "      <td>1214</td>\n",
       "      <td>NaN</td>\n",
       "      <td>3</td>\n",
       "      <td>HARTMANN Johannes</td>\n",
       "      <td>GER</td>\n",
       "      <td>00:20:53</td>\n",
       "      <td>2</td>\n",
       "      <td>00:02:30</td>\n",
       "      <td>01:02:05</td>\n",
       "      <td>4</td>\n",
       "      <td>00:01:53</td>\n",
       "      <td>00:35:39</td>\n",
       "      <td>5.0</td>\n",
       "      <td>02:02:58</td>\n",
       "    </tr>\n",
       "    <tr>\n",
       "      <th>3</th>\n",
       "      <td>M</td>\n",
       "      <td>1120</td>\n",
       "      <td>Donau Run Ingolstadt</td>\n",
       "      <td>4</td>\n",
       "      <td>OSTERMEIR Lukas</td>\n",
       "      <td>GER</td>\n",
       "      <td>00:23:02</td>\n",
       "      <td>4</td>\n",
       "      <td>00:01:53</td>\n",
       "      <td>01:03:49</td>\n",
       "      <td>8</td>\n",
       "      <td>00:02:28</td>\n",
       "      <td>00:34:31</td>\n",
       "      <td>2.0</td>\n",
       "      <td>02:05:42</td>\n",
       "    </tr>\n",
       "    <tr>\n",
       "      <th>4</th>\n",
       "      <td>M</td>\n",
       "      <td>1097</td>\n",
       "      <td>Halberhai e.V Nürnberg.</td>\n",
       "      <td>5</td>\n",
       "      <td>DOWALIL Christoph</td>\n",
       "      <td>GER</td>\n",
       "      <td>00:23:07</td>\n",
       "      <td>5</td>\n",
       "      <td>00:02:06</td>\n",
       "      <td>01:03:14</td>\n",
       "      <td>5</td>\n",
       "      <td>00:01:50</td>\n",
       "      <td>00:36:06</td>\n",
       "      <td>7.0</td>\n",
       "      <td>02:06:21</td>\n",
       "    </tr>\n",
       "    <tr>\n",
       "      <th>...</th>\n",
       "      <td>...</td>\n",
       "      <td>...</td>\n",
       "      <td>...</td>\n",
       "      <td>...</td>\n",
       "      <td>...</td>\n",
       "      <td>...</td>\n",
       "      <td>...</td>\n",
       "      <td>...</td>\n",
       "      <td>...</td>\n",
       "      <td>...</td>\n",
       "      <td>...</td>\n",
       "      <td>...</td>\n",
       "      <td>...</td>\n",
       "      <td>...</td>\n",
       "      <td>...</td>\n",
       "    </tr>\n",
       "    <tr>\n",
       "      <th>180</th>\n",
       "      <td>F</td>\n",
       "      <td>1150</td>\n",
       "      <td>NaN</td>\n",
       "      <td>32</td>\n",
       "      <td>BOUSQUET Noah</td>\n",
       "      <td>GER</td>\n",
       "      <td>00:35:33</td>\n",
       "      <td>23</td>\n",
       "      <td>00:07:25</td>\n",
       "      <td>01:21:16</td>\n",
       "      <td>24</td>\n",
       "      <td>00:04:39</td>\n",
       "      <td>00:56:15</td>\n",
       "      <td>27.0</td>\n",
       "      <td>03:05:06</td>\n",
       "    </tr>\n",
       "    <tr>\n",
       "      <th>181</th>\n",
       "      <td>F</td>\n",
       "      <td>1127</td>\n",
       "      <td>Laufmeile Bamberg</td>\n",
       "      <td>33</td>\n",
       "      <td>BISCHOFF Bianca</td>\n",
       "      <td>GER</td>\n",
       "      <td>00:41:56</td>\n",
       "      <td>33</td>\n",
       "      <td>00:04:12</td>\n",
       "      <td>01:26:17</td>\n",
       "      <td>31</td>\n",
       "      <td>00:02:42</td>\n",
       "      <td>00:56:41</td>\n",
       "      <td>30.0</td>\n",
       "      <td>03:11:46</td>\n",
       "    </tr>\n",
       "    <tr>\n",
       "      <th>182</th>\n",
       "      <td>F</td>\n",
       "      <td>1122</td>\n",
       "      <td>NaN</td>\n",
       "      <td>34</td>\n",
       "      <td>SCHWARZE Manuela</td>\n",
       "      <td>GER</td>\n",
       "      <td>00:32:57</td>\n",
       "      <td>17</td>\n",
       "      <td>00:03:37</td>\n",
       "      <td>01:32:49</td>\n",
       "      <td>35</td>\n",
       "      <td>00:04:13</td>\n",
       "      <td>01:01:51</td>\n",
       "      <td>35.0</td>\n",
       "      <td>03:15:25</td>\n",
       "    </tr>\n",
       "    <tr>\n",
       "      <th>183</th>\n",
       "      <td>F</td>\n",
       "      <td>1090</td>\n",
       "      <td>NaN</td>\n",
       "      <td>35</td>\n",
       "      <td>DISTLER Stephanie</td>\n",
       "      <td>USA</td>\n",
       "      <td>00:44:13</td>\n",
       "      <td>35</td>\n",
       "      <td>00:05:40</td>\n",
       "      <td>01:43:56</td>\n",
       "      <td>36</td>\n",
       "      <td>00:05:09</td>\n",
       "      <td>00:55:51</td>\n",
       "      <td>26.0</td>\n",
       "      <td>03:34:46</td>\n",
       "    </tr>\n",
       "    <tr>\n",
       "      <th>184</th>\n",
       "      <td>F</td>\n",
       "      <td>1071</td>\n",
       "      <td>NaN</td>\n",
       "      <td>36</td>\n",
       "      <td>KLINGSHIRN Carolin</td>\n",
       "      <td>GER</td>\n",
       "      <td>00:53:55</td>\n",
       "      <td>36</td>\n",
       "      <td>00:09:34</td>\n",
       "      <td>01:29:32</td>\n",
       "      <td>33</td>\n",
       "      <td>00:06:32</td>\n",
       "      <td>01:11:27</td>\n",
       "      <td>36.0</td>\n",
       "      <td>03:50:58</td>\n",
       "    </tr>\n",
       "  </tbody>\n",
       "</table>\n",
       "<p>175 rows × 15 columns</p>\n",
       "</div>"
      ],
      "text/plain": [
       "    sex   bib                     team place                 name nationality  \\\n",
       "0     M  1197         Post SV Nürnberg     1  RUPPRECHT Alexander         GER   \n",
       "1     M  1188            Twin Neumarkt     2     WIEDEMANN Matteo         GER   \n",
       "2     M  1214                      NaN     3    HARTMANN Johannes         GER   \n",
       "3     M  1120     Donau Run Ingolstadt     4      OSTERMEIR Lukas         GER   \n",
       "4     M  1097  Halberhai e.V Nürnberg.     5    DOWALIL Christoph         GER   \n",
       "..   ..   ...                      ...   ...                  ...         ...   \n",
       "180   F  1150                      NaN    32        BOUSQUET Noah         GER   \n",
       "181   F  1127        Laufmeile Bamberg    33      BISCHOFF Bianca         GER   \n",
       "182   F  1122                      NaN    34     SCHWARZE Manuela         GER   \n",
       "183   F  1090                      NaN    35    DISTLER Stephanie         USA   \n",
       "184   F  1071                      NaN    36   KLINGSHIRN Carolin         GER   \n",
       "\n",
       "    swim_time swim_place   t1_time bike_time bike_place   t2_time  run_time  \\\n",
       "0    00:24:17         10  00:01:55  00:58:09          1  00:01:11  00:34:59   \n",
       "1    00:23:51          8  00:01:55  00:59:43          2  00:01:41  00:33:50   \n",
       "2    00:20:53          2  00:02:30  01:02:05          4  00:01:53  00:35:39   \n",
       "3    00:23:02          4  00:01:53  01:03:49          8  00:02:28  00:34:31   \n",
       "4    00:23:07          5  00:02:06  01:03:14          5  00:01:50  00:36:06   \n",
       "..        ...        ...       ...       ...        ...       ...       ...   \n",
       "180  00:35:33         23  00:07:25  01:21:16         24  00:04:39  00:56:15   \n",
       "181  00:41:56         33  00:04:12  01:26:17         31  00:02:42  00:56:41   \n",
       "182  00:32:57         17  00:03:37  01:32:49         35  00:04:13  01:01:51   \n",
       "183  00:44:13         35  00:05:40  01:43:56         36  00:05:09  00:55:51   \n",
       "184  00:53:55         36  00:09:34  01:29:32         33  00:06:32  01:11:27   \n",
       "\n",
       "     run_place total_time  \n",
       "0          3.0   02:00:28  \n",
       "1          1.0   02:00:57  \n",
       "2          5.0   02:02:58  \n",
       "3          2.0   02:05:42  \n",
       "4          7.0   02:06:21  \n",
       "..         ...        ...  \n",
       "180       27.0   03:05:06  \n",
       "181       30.0   03:11:46  \n",
       "182       35.0   03:15:25  \n",
       "183       26.0   03:34:46  \n",
       "184       36.0   03:50:58  \n",
       "\n",
       "[175 rows x 15 columns]"
      ]
     },
     "execution_count": 5,
     "metadata": {},
     "output_type": "execute_result"
    }
   ],
   "source": [
    "fin = df[~df[\"place\"].isin([\"DSQ\", \"DNF\", \"DNS\"])]\n",
    "fin"
   ]
  },
  {
   "cell_type": "code",
   "execution_count": 6,
   "metadata": {},
   "outputs": [
    {
     "name": "stdout",
     "output_type": "stream",
     "text": [
      "<class 'pandas.core.frame.DataFrame'>\n",
      "Index: 175 entries, 0 to 184\n",
      "Data columns (total 16 columns):\n",
      " #   Column       Non-Null Count  Dtype          \n",
      "---  ------       --------------  -----          \n",
      " 0   sex          175 non-null    category       \n",
      " 1   bib          175 non-null    int64          \n",
      " 2   team         70 non-null     category       \n",
      " 3   place        175 non-null    int64          \n",
      " 4   name         175 non-null    string         \n",
      " 5   nationality  175 non-null    category       \n",
      " 6   swim_time    175 non-null    timedelta64[ns]\n",
      " 7   swim_place   175 non-null    int64          \n",
      " 8   t1_time      175 non-null    timedelta64[ns]\n",
      " 9   bike_time    175 non-null    timedelta64[ns]\n",
      " 10  bike_place   175 non-null    int64          \n",
      " 11  t2_time      175 non-null    timedelta64[ns]\n",
      " 12  run_time     175 non-null    timedelta64[ns]\n",
      " 13  run_place    175 non-null    int64          \n",
      " 14  total_time   175 non-null    timedelta64[ns]\n",
      " 15  change_time  175 non-null    timedelta64[ns]\n",
      "dtypes: category(3), int64(5), string(1), timedelta64[ns](7)\n",
      "memory usage: 22.9 KB\n"
     ]
    },
    {
     "name": "stderr",
     "output_type": "stream",
     "text": [
      "/tmp/ipykernel_27060/1964934239.py:1: SettingWithCopyWarning: \n",
      "A value is trying to be set on a copy of a slice from a DataFrame.\n",
      "Try using .loc[row_indexer,col_indexer] = value instead\n",
      "\n",
      "See the caveats in the documentation: https://pandas.pydata.org/pandas-docs/stable/user_guide/indexing.html#returning-a-view-versus-a-copy\n",
      "  fin[\"total_time\"] = pd.to_timedelta(fin[\"total_time\"])\n",
      "/tmp/ipykernel_27060/1964934239.py:2: SettingWithCopyWarning: \n",
      "A value is trying to be set on a copy of a slice from a DataFrame.\n",
      "Try using .loc[row_indexer,col_indexer] = value instead\n",
      "\n",
      "See the caveats in the documentation: https://pandas.pydata.org/pandas-docs/stable/user_guide/indexing.html#returning-a-view-versus-a-copy\n",
      "  fin[\"t1_time\"] = pd.to_timedelta(fin[\"t1_time\"])\n",
      "/tmp/ipykernel_27060/1964934239.py:3: SettingWithCopyWarning: \n",
      "A value is trying to be set on a copy of a slice from a DataFrame.\n",
      "Try using .loc[row_indexer,col_indexer] = value instead\n",
      "\n",
      "See the caveats in the documentation: https://pandas.pydata.org/pandas-docs/stable/user_guide/indexing.html#returning-a-view-versus-a-copy\n",
      "  fin[\"t2_time\"] = pd.to_timedelta(fin[\"t2_time\"])\n",
      "/tmp/ipykernel_27060/1964934239.py:4: SettingWithCopyWarning: \n",
      "A value is trying to be set on a copy of a slice from a DataFrame.\n",
      "Try using .loc[row_indexer,col_indexer] = value instead\n",
      "\n",
      "See the caveats in the documentation: https://pandas.pydata.org/pandas-docs/stable/user_guide/indexing.html#returning-a-view-versus-a-copy\n",
      "  fin[\"change_time\"] = fin[\"t1_time\"] + fin[\"t2_time\"]\n",
      "/tmp/ipykernel_27060/1964934239.py:5: SettingWithCopyWarning: \n",
      "A value is trying to be set on a copy of a slice from a DataFrame.\n",
      "Try using .loc[row_indexer,col_indexer] = value instead\n",
      "\n",
      "See the caveats in the documentation: https://pandas.pydata.org/pandas-docs/stable/user_guide/indexing.html#returning-a-view-versus-a-copy\n",
      "  fin[\"swim_time\"] = pd.to_timedelta(fin[\"swim_time\"])\n",
      "/tmp/ipykernel_27060/1964934239.py:6: SettingWithCopyWarning: \n",
      "A value is trying to be set on a copy of a slice from a DataFrame.\n",
      "Try using .loc[row_indexer,col_indexer] = value instead\n",
      "\n",
      "See the caveats in the documentation: https://pandas.pydata.org/pandas-docs/stable/user_guide/indexing.html#returning-a-view-versus-a-copy\n",
      "  fin[\"bike_time\"] = pd.to_timedelta(fin[\"bike_time\"])\n",
      "/tmp/ipykernel_27060/1964934239.py:7: SettingWithCopyWarning: \n",
      "A value is trying to be set on a copy of a slice from a DataFrame.\n",
      "Try using .loc[row_indexer,col_indexer] = value instead\n",
      "\n",
      "See the caveats in the documentation: https://pandas.pydata.org/pandas-docs/stable/user_guide/indexing.html#returning-a-view-versus-a-copy\n",
      "  fin[\"run_time\"] = pd.to_timedelta(fin[\"run_time\"])\n",
      "/tmp/ipykernel_27060/1964934239.py:10: SettingWithCopyWarning: \n",
      "A value is trying to be set on a copy of a slice from a DataFrame.\n",
      "Try using .loc[row_indexer,col_indexer] = value instead\n",
      "\n",
      "See the caveats in the documentation: https://pandas.pydata.org/pandas-docs/stable/user_guide/indexing.html#returning-a-view-versus-a-copy\n",
      "  fin[\"sex\"] = fin[\"sex\"].astype(\"category\")\n",
      "/tmp/ipykernel_27060/1964934239.py:11: SettingWithCopyWarning: \n",
      "A value is trying to be set on a copy of a slice from a DataFrame.\n",
      "Try using .loc[row_indexer,col_indexer] = value instead\n",
      "\n",
      "See the caveats in the documentation: https://pandas.pydata.org/pandas-docs/stable/user_guide/indexing.html#returning-a-view-versus-a-copy\n",
      "  fin[\"bib\"] = fin[\"bib\"].astype(\"int\")\n",
      "/tmp/ipykernel_27060/1964934239.py:12: SettingWithCopyWarning: \n",
      "A value is trying to be set on a copy of a slice from a DataFrame.\n",
      "Try using .loc[row_indexer,col_indexer] = value instead\n",
      "\n",
      "See the caveats in the documentation: https://pandas.pydata.org/pandas-docs/stable/user_guide/indexing.html#returning-a-view-versus-a-copy\n",
      "  fin[\"place\"] = fin[\"place\"].astype(\"int\")\n",
      "/tmp/ipykernel_27060/1964934239.py:13: SettingWithCopyWarning: \n",
      "A value is trying to be set on a copy of a slice from a DataFrame.\n",
      "Try using .loc[row_indexer,col_indexer] = value instead\n",
      "\n",
      "See the caveats in the documentation: https://pandas.pydata.org/pandas-docs/stable/user_guide/indexing.html#returning-a-view-versus-a-copy\n",
      "  fin[\"swim_place\"] = fin[\"swim_place\"].astype(\"int\")\n",
      "/tmp/ipykernel_27060/1964934239.py:14: SettingWithCopyWarning: \n",
      "A value is trying to be set on a copy of a slice from a DataFrame.\n",
      "Try using .loc[row_indexer,col_indexer] = value instead\n",
      "\n",
      "See the caveats in the documentation: https://pandas.pydata.org/pandas-docs/stable/user_guide/indexing.html#returning-a-view-versus-a-copy\n",
      "  fin[\"bike_place\"] = fin[\"bike_place\"].astype(\"int\")\n",
      "/tmp/ipykernel_27060/1964934239.py:15: SettingWithCopyWarning: \n",
      "A value is trying to be set on a copy of a slice from a DataFrame.\n",
      "Try using .loc[row_indexer,col_indexer] = value instead\n",
      "\n",
      "See the caveats in the documentation: https://pandas.pydata.org/pandas-docs/stable/user_guide/indexing.html#returning-a-view-versus-a-copy\n",
      "  fin[\"run_place\"] = fin[\"run_place\"].astype(\"int\")\n",
      "/tmp/ipykernel_27060/1964934239.py:17: SettingWithCopyWarning: \n",
      "A value is trying to be set on a copy of a slice from a DataFrame.\n",
      "Try using .loc[row_indexer,col_indexer] = value instead\n",
      "\n",
      "See the caveats in the documentation: https://pandas.pydata.org/pandas-docs/stable/user_guide/indexing.html#returning-a-view-versus-a-copy\n",
      "  fin[\"nationality\"] = fin[\"nationality\"].astype(\"category\")\n",
      "/tmp/ipykernel_27060/1964934239.py:18: SettingWithCopyWarning: \n",
      "A value is trying to be set on a copy of a slice from a DataFrame.\n",
      "Try using .loc[row_indexer,col_indexer] = value instead\n",
      "\n",
      "See the caveats in the documentation: https://pandas.pydata.org/pandas-docs/stable/user_guide/indexing.html#returning-a-view-versus-a-copy\n",
      "  fin[\"name\"] = fin[\"name\"].astype(\"string\")\n",
      "/tmp/ipykernel_27060/1964934239.py:19: SettingWithCopyWarning: \n",
      "A value is trying to be set on a copy of a slice from a DataFrame.\n",
      "Try using .loc[row_indexer,col_indexer] = value instead\n",
      "\n",
      "See the caveats in the documentation: https://pandas.pydata.org/pandas-docs/stable/user_guide/indexing.html#returning-a-view-versus-a-copy\n",
      "  fin[\"team\"] = fin[\"team\"].astype(\"category\")\n"
     ]
    }
   ],
   "source": [
    "fin[\"total_time\"] = pd.to_timedelta(fin[\"total_time\"])\n",
    "fin[\"t1_time\"] = pd.to_timedelta(fin[\"t1_time\"])\n",
    "fin[\"t2_time\"] = pd.to_timedelta(fin[\"t2_time\"])\n",
    "fin[\"change_time\"] = fin[\"t1_time\"] + fin[\"t2_time\"]\n",
    "fin[\"swim_time\"] = pd.to_timedelta(fin[\"swim_time\"])\n",
    "fin[\"bike_time\"] = pd.to_timedelta(fin[\"bike_time\"])\n",
    "fin[\"run_time\"] = pd.to_timedelta(fin[\"run_time\"])\n",
    "\n",
    "\n",
    "fin[\"sex\"] = fin[\"sex\"].astype(\"category\")\n",
    "fin[\"bib\"] = fin[\"bib\"].astype(\"int\")\n",
    "fin[\"place\"] = fin[\"place\"].astype(\"int\")\n",
    "fin[\"swim_place\"] = fin[\"swim_place\"].astype(\"int\")\n",
    "fin[\"bike_place\"] = fin[\"bike_place\"].astype(\"int\")\n",
    "fin[\"run_place\"] = fin[\"run_place\"].astype(\"int\")\n",
    "\n",
    "fin[\"nationality\"] = fin[\"nationality\"].astype(\"category\")\n",
    "fin[\"name\"] = fin[\"name\"].astype(\"string\")\n",
    "fin[\"team\"] = fin[\"team\"].astype(\"category\")\n",
    "\n",
    "fin.info()"
   ]
  },
  {
   "cell_type": "code",
   "execution_count": 13,
   "metadata": {},
   "outputs": [
    {
     "name": "stderr",
     "output_type": "stream",
     "text": [
      "/tmp/ipykernel_27060/3865083310.py:1: SettingWithCopyWarning:\n",
      "\n",
      "\n",
      "A value is trying to be set on a copy of a slice from a DataFrame.\n",
      "Try using .loc[row_indexer,col_indexer] = value instead\n",
      "\n",
      "See the caveats in the documentation: https://pandas.pydata.org/pandas-docs/stable/user_guide/indexing.html#returning-a-view-versus-a-copy\n",
      "\n",
      "/tmp/ipykernel_27060/3865083310.py:2: SettingWithCopyWarning:\n",
      "\n",
      "\n",
      "A value is trying to be set on a copy of a slice from a DataFrame.\n",
      "Try using .loc[row_indexer,col_indexer] = value instead\n",
      "\n",
      "See the caveats in the documentation: https://pandas.pydata.org/pandas-docs/stable/user_guide/indexing.html#returning-a-view-versus-a-copy\n",
      "\n",
      "/tmp/ipykernel_27060/3865083310.py:3: SettingWithCopyWarning:\n",
      "\n",
      "\n",
      "A value is trying to be set on a copy of a slice from a DataFrame.\n",
      "Try using .loc[row_indexer,col_indexer] = value instead\n",
      "\n",
      "See the caveats in the documentation: https://pandas.pydata.org/pandas-docs/stable/user_guide/indexing.html#returning-a-view-versus-a-copy\n",
      "\n",
      "/tmp/ipykernel_27060/3865083310.py:4: SettingWithCopyWarning:\n",
      "\n",
      "\n",
      "A value is trying to be set on a copy of a slice from a DataFrame.\n",
      "Try using .loc[row_indexer,col_indexer] = value instead\n",
      "\n",
      "See the caveats in the documentation: https://pandas.pydata.org/pandas-docs/stable/user_guide/indexing.html#returning-a-view-versus-a-copy\n",
      "\n",
      "/tmp/ipykernel_27060/3865083310.py:5: SettingWithCopyWarning:\n",
      "\n",
      "\n",
      "A value is trying to be set on a copy of a slice from a DataFrame.\n",
      "Try using .loc[row_indexer,col_indexer] = value instead\n",
      "\n",
      "See the caveats in the documentation: https://pandas.pydata.org/pandas-docs/stable/user_guide/indexing.html#returning-a-view-versus-a-copy\n",
      "\n",
      "/tmp/ipykernel_27060/3865083310.py:6: SettingWithCopyWarning:\n",
      "\n",
      "\n",
      "A value is trying to be set on a copy of a slice from a DataFrame.\n",
      "Try using .loc[row_indexer,col_indexer] = value instead\n",
      "\n",
      "See the caveats in the documentation: https://pandas.pydata.org/pandas-docs/stable/user_guide/indexing.html#returning-a-view-versus-a-copy\n",
      "\n",
      "/tmp/ipykernel_27060/3865083310.py:7: SettingWithCopyWarning:\n",
      "\n",
      "\n",
      "A value is trying to be set on a copy of a slice from a DataFrame.\n",
      "Try using .loc[row_indexer,col_indexer] = value instead\n",
      "\n",
      "See the caveats in the documentation: https://pandas.pydata.org/pandas-docs/stable/user_guide/indexing.html#returning-a-view-versus-a-copy\n",
      "\n",
      "/tmp/ipykernel_27060/3865083310.py:9: SettingWithCopyWarning:\n",
      "\n",
      "\n",
      "A value is trying to be set on a copy of a slice from a DataFrame.\n",
      "Try using .loc[row_indexer,col_indexer] = value instead\n",
      "\n",
      "See the caveats in the documentation: https://pandas.pydata.org/pandas-docs/stable/user_guide/indexing.html#returning-a-view-versus-a-copy\n",
      "\n"
     ]
    },
    {
     "data": {
      "text/html": [
       "<div>\n",
       "<style scoped>\n",
       "    .dataframe tbody tr th:only-of-type {\n",
       "        vertical-align: middle;\n",
       "    }\n",
       "\n",
       "    .dataframe tbody tr th {\n",
       "        vertical-align: top;\n",
       "    }\n",
       "\n",
       "    .dataframe thead th {\n",
       "        text-align: right;\n",
       "    }\n",
       "</style>\n",
       "<table border=\"1\" class=\"dataframe\">\n",
       "  <thead>\n",
       "    <tr style=\"text-align: right;\">\n",
       "      <th></th>\n",
       "      <th>sex</th>\n",
       "      <th>bib</th>\n",
       "      <th>team</th>\n",
       "      <th>place</th>\n",
       "      <th>name</th>\n",
       "      <th>nationality</th>\n",
       "      <th>swim_time</th>\n",
       "      <th>swim_place</th>\n",
       "      <th>t1_time</th>\n",
       "      <th>bike_time</th>\n",
       "      <th>...</th>\n",
       "      <th>total_time</th>\n",
       "      <th>change_time</th>\n",
       "      <th>total_time_in_seconds</th>\n",
       "      <th>t1_time_in_seconds</th>\n",
       "      <th>t2_time_in_seconds</th>\n",
       "      <th>change_time_in_seconds</th>\n",
       "      <th>swim_time_in_seconds</th>\n",
       "      <th>bike_time_in_seconds</th>\n",
       "      <th>run_time_in_seconds</th>\n",
       "      <th>diff_time_in_seconds</th>\n",
       "    </tr>\n",
       "  </thead>\n",
       "  <tbody>\n",
       "    <tr>\n",
       "      <th>0</th>\n",
       "      <td>M</td>\n",
       "      <td>1197</td>\n",
       "      <td>Post SV Nürnberg</td>\n",
       "      <td>1</td>\n",
       "      <td>RUPPRECHT Alexander</td>\n",
       "      <td>GER</td>\n",
       "      <td>0 days 00:24:17</td>\n",
       "      <td>10</td>\n",
       "      <td>0 days 00:01:55</td>\n",
       "      <td>0 days 00:58:09</td>\n",
       "      <td>...</td>\n",
       "      <td>0 days 02:00:28</td>\n",
       "      <td>0 days 00:03:06</td>\n",
       "      <td>7228.0</td>\n",
       "      <td>115.0</td>\n",
       "      <td>71.0</td>\n",
       "      <td>186.0</td>\n",
       "      <td>1457.0</td>\n",
       "      <td>3489.0</td>\n",
       "      <td>2099.0</td>\n",
       "      <td>0.0</td>\n",
       "    </tr>\n",
       "    <tr>\n",
       "      <th>1</th>\n",
       "      <td>M</td>\n",
       "      <td>1188</td>\n",
       "      <td>Twin Neumarkt</td>\n",
       "      <td>2</td>\n",
       "      <td>WIEDEMANN Matteo</td>\n",
       "      <td>GER</td>\n",
       "      <td>0 days 00:23:51</td>\n",
       "      <td>8</td>\n",
       "      <td>0 days 00:01:55</td>\n",
       "      <td>0 days 00:59:43</td>\n",
       "      <td>...</td>\n",
       "      <td>0 days 02:00:57</td>\n",
       "      <td>0 days 00:03:36</td>\n",
       "      <td>7257.0</td>\n",
       "      <td>115.0</td>\n",
       "      <td>101.0</td>\n",
       "      <td>216.0</td>\n",
       "      <td>1431.0</td>\n",
       "      <td>3583.0</td>\n",
       "      <td>2030.0</td>\n",
       "      <td>29.0</td>\n",
       "    </tr>\n",
       "    <tr>\n",
       "      <th>2</th>\n",
       "      <td>M</td>\n",
       "      <td>1214</td>\n",
       "      <td>NaN</td>\n",
       "      <td>3</td>\n",
       "      <td>HARTMANN Johannes</td>\n",
       "      <td>GER</td>\n",
       "      <td>0 days 00:20:53</td>\n",
       "      <td>2</td>\n",
       "      <td>0 days 00:02:30</td>\n",
       "      <td>0 days 01:02:05</td>\n",
       "      <td>...</td>\n",
       "      <td>0 days 02:02:58</td>\n",
       "      <td>0 days 00:04:23</td>\n",
       "      <td>7378.0</td>\n",
       "      <td>150.0</td>\n",
       "      <td>113.0</td>\n",
       "      <td>263.0</td>\n",
       "      <td>1253.0</td>\n",
       "      <td>3725.0</td>\n",
       "      <td>2139.0</td>\n",
       "      <td>150.0</td>\n",
       "    </tr>\n",
       "    <tr>\n",
       "      <th>3</th>\n",
       "      <td>M</td>\n",
       "      <td>1120</td>\n",
       "      <td>Donau Run Ingolstadt</td>\n",
       "      <td>4</td>\n",
       "      <td>OSTERMEIR Lukas</td>\n",
       "      <td>GER</td>\n",
       "      <td>0 days 00:23:02</td>\n",
       "      <td>4</td>\n",
       "      <td>0 days 00:01:53</td>\n",
       "      <td>0 days 01:03:49</td>\n",
       "      <td>...</td>\n",
       "      <td>0 days 02:05:42</td>\n",
       "      <td>0 days 00:04:21</td>\n",
       "      <td>7542.0</td>\n",
       "      <td>113.0</td>\n",
       "      <td>148.0</td>\n",
       "      <td>261.0</td>\n",
       "      <td>1382.0</td>\n",
       "      <td>3829.0</td>\n",
       "      <td>2071.0</td>\n",
       "      <td>314.0</td>\n",
       "    </tr>\n",
       "    <tr>\n",
       "      <th>4</th>\n",
       "      <td>M</td>\n",
       "      <td>1097</td>\n",
       "      <td>Halberhai e.V Nürnberg.</td>\n",
       "      <td>5</td>\n",
       "      <td>DOWALIL Christoph</td>\n",
       "      <td>GER</td>\n",
       "      <td>0 days 00:23:07</td>\n",
       "      <td>5</td>\n",
       "      <td>0 days 00:02:06</td>\n",
       "      <td>0 days 01:03:14</td>\n",
       "      <td>...</td>\n",
       "      <td>0 days 02:06:21</td>\n",
       "      <td>0 days 00:03:56</td>\n",
       "      <td>7581.0</td>\n",
       "      <td>126.0</td>\n",
       "      <td>110.0</td>\n",
       "      <td>236.0</td>\n",
       "      <td>1387.0</td>\n",
       "      <td>3794.0</td>\n",
       "      <td>2166.0</td>\n",
       "      <td>353.0</td>\n",
       "    </tr>\n",
       "    <tr>\n",
       "      <th>...</th>\n",
       "      <td>...</td>\n",
       "      <td>...</td>\n",
       "      <td>...</td>\n",
       "      <td>...</td>\n",
       "      <td>...</td>\n",
       "      <td>...</td>\n",
       "      <td>...</td>\n",
       "      <td>...</td>\n",
       "      <td>...</td>\n",
       "      <td>...</td>\n",
       "      <td>...</td>\n",
       "      <td>...</td>\n",
       "      <td>...</td>\n",
       "      <td>...</td>\n",
       "      <td>...</td>\n",
       "      <td>...</td>\n",
       "      <td>...</td>\n",
       "      <td>...</td>\n",
       "      <td>...</td>\n",
       "      <td>...</td>\n",
       "      <td>...</td>\n",
       "    </tr>\n",
       "    <tr>\n",
       "      <th>180</th>\n",
       "      <td>F</td>\n",
       "      <td>1150</td>\n",
       "      <td>NaN</td>\n",
       "      <td>32</td>\n",
       "      <td>BOUSQUET Noah</td>\n",
       "      <td>GER</td>\n",
       "      <td>0 days 00:35:33</td>\n",
       "      <td>23</td>\n",
       "      <td>0 days 00:07:25</td>\n",
       "      <td>0 days 01:21:16</td>\n",
       "      <td>...</td>\n",
       "      <td>0 days 03:05:06</td>\n",
       "      <td>0 days 00:12:04</td>\n",
       "      <td>11106.0</td>\n",
       "      <td>445.0</td>\n",
       "      <td>279.0</td>\n",
       "      <td>724.0</td>\n",
       "      <td>2133.0</td>\n",
       "      <td>4876.0</td>\n",
       "      <td>3375.0</td>\n",
       "      <td>0.0</td>\n",
       "    </tr>\n",
       "    <tr>\n",
       "      <th>181</th>\n",
       "      <td>F</td>\n",
       "      <td>1127</td>\n",
       "      <td>Laufmeile Bamberg</td>\n",
       "      <td>33</td>\n",
       "      <td>BISCHOFF Bianca</td>\n",
       "      <td>GER</td>\n",
       "      <td>0 days 00:41:56</td>\n",
       "      <td>33</td>\n",
       "      <td>0 days 00:04:12</td>\n",
       "      <td>0 days 01:26:17</td>\n",
       "      <td>...</td>\n",
       "      <td>0 days 03:11:46</td>\n",
       "      <td>0 days 00:06:54</td>\n",
       "      <td>11506.0</td>\n",
       "      <td>252.0</td>\n",
       "      <td>162.0</td>\n",
       "      <td>414.0</td>\n",
       "      <td>2516.0</td>\n",
       "      <td>5177.0</td>\n",
       "      <td>3401.0</td>\n",
       "      <td>0.0</td>\n",
       "    </tr>\n",
       "    <tr>\n",
       "      <th>182</th>\n",
       "      <td>F</td>\n",
       "      <td>1122</td>\n",
       "      <td>NaN</td>\n",
       "      <td>34</td>\n",
       "      <td>SCHWARZE Manuela</td>\n",
       "      <td>GER</td>\n",
       "      <td>0 days 00:32:57</td>\n",
       "      <td>17</td>\n",
       "      <td>0 days 00:03:37</td>\n",
       "      <td>0 days 01:32:49</td>\n",
       "      <td>...</td>\n",
       "      <td>0 days 03:15:25</td>\n",
       "      <td>0 days 00:07:50</td>\n",
       "      <td>11725.0</td>\n",
       "      <td>217.0</td>\n",
       "      <td>253.0</td>\n",
       "      <td>470.0</td>\n",
       "      <td>1977.0</td>\n",
       "      <td>5569.0</td>\n",
       "      <td>3711.0</td>\n",
       "      <td>0.0</td>\n",
       "    </tr>\n",
       "    <tr>\n",
       "      <th>183</th>\n",
       "      <td>F</td>\n",
       "      <td>1090</td>\n",
       "      <td>NaN</td>\n",
       "      <td>35</td>\n",
       "      <td>DISTLER Stephanie</td>\n",
       "      <td>USA</td>\n",
       "      <td>0 days 00:44:13</td>\n",
       "      <td>35</td>\n",
       "      <td>0 days 00:05:40</td>\n",
       "      <td>0 days 01:43:56</td>\n",
       "      <td>...</td>\n",
       "      <td>0 days 03:34:46</td>\n",
       "      <td>0 days 00:10:49</td>\n",
       "      <td>12886.0</td>\n",
       "      <td>340.0</td>\n",
       "      <td>309.0</td>\n",
       "      <td>649.0</td>\n",
       "      <td>2653.0</td>\n",
       "      <td>6236.0</td>\n",
       "      <td>3351.0</td>\n",
       "      <td>0.0</td>\n",
       "    </tr>\n",
       "    <tr>\n",
       "      <th>184</th>\n",
       "      <td>F</td>\n",
       "      <td>1071</td>\n",
       "      <td>NaN</td>\n",
       "      <td>36</td>\n",
       "      <td>KLINGSHIRN Carolin</td>\n",
       "      <td>GER</td>\n",
       "      <td>0 days 00:53:55</td>\n",
       "      <td>36</td>\n",
       "      <td>0 days 00:09:34</td>\n",
       "      <td>0 days 01:29:32</td>\n",
       "      <td>...</td>\n",
       "      <td>0 days 03:50:58</td>\n",
       "      <td>0 days 00:16:06</td>\n",
       "      <td>13858.0</td>\n",
       "      <td>574.0</td>\n",
       "      <td>392.0</td>\n",
       "      <td>966.0</td>\n",
       "      <td>3235.0</td>\n",
       "      <td>5372.0</td>\n",
       "      <td>4287.0</td>\n",
       "      <td>0.0</td>\n",
       "    </tr>\n",
       "  </tbody>\n",
       "</table>\n",
       "<p>175 rows × 24 columns</p>\n",
       "</div>"
      ],
      "text/plain": [
       "    sex   bib                     team  place                 name  \\\n",
       "0     M  1197         Post SV Nürnberg      1  RUPPRECHT Alexander   \n",
       "1     M  1188            Twin Neumarkt      2     WIEDEMANN Matteo   \n",
       "2     M  1214                      NaN      3    HARTMANN Johannes   \n",
       "3     M  1120     Donau Run Ingolstadt      4      OSTERMEIR Lukas   \n",
       "4     M  1097  Halberhai e.V Nürnberg.      5    DOWALIL Christoph   \n",
       "..   ..   ...                      ...    ...                  ...   \n",
       "180   F  1150                      NaN     32        BOUSQUET Noah   \n",
       "181   F  1127        Laufmeile Bamberg     33      BISCHOFF Bianca   \n",
       "182   F  1122                      NaN     34     SCHWARZE Manuela   \n",
       "183   F  1090                      NaN     35    DISTLER Stephanie   \n",
       "184   F  1071                      NaN     36   KLINGSHIRN Carolin   \n",
       "\n",
       "    nationality       swim_time  swim_place         t1_time       bike_time  \\\n",
       "0           GER 0 days 00:24:17          10 0 days 00:01:55 0 days 00:58:09   \n",
       "1           GER 0 days 00:23:51           8 0 days 00:01:55 0 days 00:59:43   \n",
       "2           GER 0 days 00:20:53           2 0 days 00:02:30 0 days 01:02:05   \n",
       "3           GER 0 days 00:23:02           4 0 days 00:01:53 0 days 01:03:49   \n",
       "4           GER 0 days 00:23:07           5 0 days 00:02:06 0 days 01:03:14   \n",
       "..          ...             ...         ...             ...             ...   \n",
       "180         GER 0 days 00:35:33          23 0 days 00:07:25 0 days 01:21:16   \n",
       "181         GER 0 days 00:41:56          33 0 days 00:04:12 0 days 01:26:17   \n",
       "182         GER 0 days 00:32:57          17 0 days 00:03:37 0 days 01:32:49   \n",
       "183         USA 0 days 00:44:13          35 0 days 00:05:40 0 days 01:43:56   \n",
       "184         GER 0 days 00:53:55          36 0 days 00:09:34 0 days 01:29:32   \n",
       "\n",
       "     ...      total_time     change_time total_time_in_seconds  \\\n",
       "0    ... 0 days 02:00:28 0 days 00:03:06                7228.0   \n",
       "1    ... 0 days 02:00:57 0 days 00:03:36                7257.0   \n",
       "2    ... 0 days 02:02:58 0 days 00:04:23                7378.0   \n",
       "3    ... 0 days 02:05:42 0 days 00:04:21                7542.0   \n",
       "4    ... 0 days 02:06:21 0 days 00:03:56                7581.0   \n",
       "..   ...             ...             ...                   ...   \n",
       "180  ... 0 days 03:05:06 0 days 00:12:04               11106.0   \n",
       "181  ... 0 days 03:11:46 0 days 00:06:54               11506.0   \n",
       "182  ... 0 days 03:15:25 0 days 00:07:50               11725.0   \n",
       "183  ... 0 days 03:34:46 0 days 00:10:49               12886.0   \n",
       "184  ... 0 days 03:50:58 0 days 00:16:06               13858.0   \n",
       "\n",
       "     t1_time_in_seconds t2_time_in_seconds change_time_in_seconds  \\\n",
       "0                 115.0               71.0                  186.0   \n",
       "1                 115.0              101.0                  216.0   \n",
       "2                 150.0              113.0                  263.0   \n",
       "3                 113.0              148.0                  261.0   \n",
       "4                 126.0              110.0                  236.0   \n",
       "..                  ...                ...                    ...   \n",
       "180               445.0              279.0                  724.0   \n",
       "181               252.0              162.0                  414.0   \n",
       "182               217.0              253.0                  470.0   \n",
       "183               340.0              309.0                  649.0   \n",
       "184               574.0              392.0                  966.0   \n",
       "\n",
       "     swim_time_in_seconds  bike_time_in_seconds  run_time_in_seconds  \\\n",
       "0                  1457.0                3489.0               2099.0   \n",
       "1                  1431.0                3583.0               2030.0   \n",
       "2                  1253.0                3725.0               2139.0   \n",
       "3                  1382.0                3829.0               2071.0   \n",
       "4                  1387.0                3794.0               2166.0   \n",
       "..                    ...                   ...                  ...   \n",
       "180                2133.0                4876.0               3375.0   \n",
       "181                2516.0                5177.0               3401.0   \n",
       "182                1977.0                5569.0               3711.0   \n",
       "183                2653.0                6236.0               3351.0   \n",
       "184                3235.0                5372.0               4287.0   \n",
       "\n",
       "     diff_time_in_seconds  \n",
       "0                     0.0  \n",
       "1                    29.0  \n",
       "2                   150.0  \n",
       "3                   314.0  \n",
       "4                   353.0  \n",
       "..                    ...  \n",
       "180                   0.0  \n",
       "181                   0.0  \n",
       "182                   0.0  \n",
       "183                   0.0  \n",
       "184                   0.0  \n",
       "\n",
       "[175 rows x 24 columns]"
      ]
     },
     "execution_count": 13,
     "metadata": {},
     "output_type": "execute_result"
    }
   ],
   "source": [
    "fin[\"total_time_in_seconds\"] = fin[\"total_time\"].dt.total_seconds()\n",
    "fin[\"t1_time_in_seconds\"] = fin[\"t1_time\"].dt.total_seconds()\n",
    "fin[\"t2_time_in_seconds\"] = fin[\"t2_time\"].dt.total_seconds()\n",
    "fin[\"change_time_in_seconds\"] = fin[\"change_time\"].dt.total_seconds()\n",
    "fin[\"swim_time_in_seconds\"] = fin[\"swim_time\"].dt.total_seconds()\n",
    "fin[\"bike_time_in_seconds\"] = fin[\"bike_time\"].dt.total_seconds()\n",
    "fin[\"run_time_in_seconds\"] = fin[\"run_time\"].dt.total_seconds()\n",
    "\n",
    "fin[\"diff_time_in_seconds\"] = 0.0\n",
    "fin.loc[fin[\"sex\"] == \"M\",  \"diff_time_in_seconds\"] = (\n",
    "    fin[\"total_time_in_seconds\"] - 7228.0\n",
    ")\n",
    "fin"
   ]
  },
  {
   "cell_type": "code",
   "execution_count": 14,
   "metadata": {},
   "outputs": [
    {
     "data": {
      "application/vnd.plotly.v1+json": {
       "config": {
        "plotlyServerURL": "https://plot.ly"
       },
       "data": [
        {
         "alignmentgroup": "True",
         "hovertemplate": "<b>%{hovertext}</b><br><br>place=%{x}<br>diff_time_in_seconds=%{y}<extra></extra>",
         "hovertext": [
          "RUPPRECHT Alexander",
          "WIEDEMANN Matteo",
          "HARTMANN Johannes",
          "OSTERMEIR Lukas",
          "DOWALIL Christoph",
          "HARTMANN Christoph",
          "BREVET Valentin",
          "KURMYSHKIN Frank",
          "PLESKER Robin",
          "KLINK Maximilian",
          "HEITMANN Janusz",
          "KNOLL Georg",
          "BILLES Robin",
          "REICHMUTH Walter",
          "NOWAK Tim",
          "LEHMANN Marcus",
          "ZIMMERMANN Philipp",
          "SPITTLER Daniel",
          "LÖHLEIN Dominik",
          "WAGNER André",
          "BURKHARDT Marco",
          "WERNER Johannes",
          "MIERLEIN Tim",
          "KOHLSCHMID Dominik",
          "EDELMANN Johannes",
          "STRÄTER Markus",
          "LARRICQ Romain",
          "DILLET Gabriel",
          "HELMSTAEDT Vincent",
          "SCHNEIDER Ingo",
          "KLOOS Christoph",
          "WALLISCH Michael",
          "SEHLINGER Arnulf",
          "WERNER Hans-Peter",
          "SCHLEICHER Michael",
          "BRAUN Tobias",
          "SCHWEINBERGER Thorsten",
          "NÖTHLING Felix",
          "MASCARENHAS MACHADO DE ALMEIDA Andre",
          "HARTMANN Maxim",
          "RAIS Timo",
          "SCHNEIDER Bernd",
          "PONWENGER Christoph",
          "WEINMANN Sven",
          "SOMMER Sven",
          "KRÄMER Florian",
          "WAGNER Maximilian",
          "MERZ Ruben",
          "FECHT Sven",
          "BREM Lukas",
          "ZINNÄCKER Maik",
          "MORLOK Robert",
          "GLAZLE Alexander",
          "WITTMANN Lukas",
          "EBERLEIN Johannes",
          "SCHÜLEIN Michael",
          "FRANZ Jochen",
          "DÖRNTE Paul",
          "HEYN Alessio",
          "MIX Luca",
          "ARDILES Antonio",
          "RESITOGLU Ali Ertan",
          "SCHMIDT Marco",
          "WILLER Sven",
          "HOFFMANN Robert",
          "SCHICK Alexander",
          "BERSTECHER Daniel",
          "HARTINGER Julian",
          "KOTTER Sebastian",
          "KLINK Thomas",
          "SCHULZE Kilian",
          "DURAND Sébastien",
          "EISERMANN Patrick",
          "KRISTUFEK Franz",
          "RUDAKOV Andrey",
          "RIEGER Anton",
          "PIMPALKHARE Monish Sanat",
          "JOUBERT Andreas",
          "KLEIN Daniel",
          "HELLER Tim",
          "LIENEKAMPF Uwe",
          "BALKE Bastian",
          "VOGEL Marco",
          "UTTENDORFER Tobias",
          "VON KEITZ Felix",
          "ZAVICI Septimiu",
          "KAISER Tobias",
          "LIEBERS Torben",
          "OTTMANN Steffen",
          "LAUBE Eric",
          "KAZMAN Fidel",
          "JORGAS Matthias",
          "JOCKISCH Peter",
          "JUNKER Stefan",
          "BECKER Tim",
          "JAKISCH Sven",
          "CARDOSO BREINER Julian",
          "BECKERLE Philipp",
          "MIEZENBEEK Koen Franciscus",
          "ZALA Matteo",
          "HERMANNS Dennis",
          "KILIAN Tobias",
          "GÜßREGEN Michael",
          "KNORR Ferdinand",
          "MÜLLER Armin",
          "KAHRS Dirk",
          "HEIDENREICH Nicholas",
          "SCHMIDT Jonas Paul",
          "SCHEFFLER David",
          "GOTTLIEB Thomas",
          "RUHMANN Benjamin",
          "HANSEN Christoph",
          "REIMANN HERCKERT Matheus Guilherme",
          "WASCHER Andreas",
          "SCHNEIDER Eugen",
          "PETZOLD Markus",
          "KELCH Michael",
          "LUFF Johannes",
          "BURKHARDT Maxim",
          "SANCHEZ Fernando",
          "BORDENKIRCHER Willi",
          "MCINTYRE Steven",
          "KANZI Eugen Johann",
          "FKYERAT Younes",
          "HENSEL Mark",
          "PAZANIN Daniel",
          "WIESEMANN Julius",
          "WENDRICH Karl",
          "JAKISCH Marc",
          "ENDT Sebastian",
          "KÜMMET Louis",
          "KLEIST Michael",
          "BREINER Oswald",
          "SABITZKI Kristian",
          "KOTTER Martin",
          "BÜBEL Alexander",
          "MENGUS Lionel",
          "SCHULZE Stefan",
          "SOFFIANTINI Rodrigo"
         ],
         "legendgroup": "",
         "marker": {
          "color": "#636efa",
          "pattern": {
           "shape": ""
          }
         },
         "name": "",
         "offsetgroup": "",
         "orientation": "v",
         "showlegend": false,
         "textposition": "auto",
         "type": "bar",
         "x": [
          1,
          2,
          3,
          4,
          5,
          6,
          7,
          8,
          9,
          10,
          11,
          12,
          13,
          14,
          15,
          16,
          17,
          18,
          19,
          20,
          21,
          22,
          23,
          24,
          25,
          26,
          27,
          28,
          29,
          30,
          31,
          32,
          33,
          34,
          35,
          36,
          37,
          38,
          39,
          40,
          41,
          42,
          43,
          44,
          45,
          46,
          47,
          48,
          49,
          50,
          51,
          52,
          53,
          54,
          55,
          56,
          57,
          58,
          59,
          60,
          61,
          62,
          63,
          64,
          65,
          66,
          67,
          68,
          69,
          70,
          71,
          72,
          73,
          74,
          75,
          76,
          77,
          78,
          79,
          80,
          81,
          82,
          83,
          84,
          85,
          86,
          87,
          88,
          89,
          90,
          91,
          92,
          93,
          94,
          95,
          96,
          97,
          98,
          99,
          100,
          101,
          102,
          103,
          104,
          105,
          106,
          107,
          108,
          109,
          110,
          111,
          112,
          113,
          114,
          115,
          116,
          117,
          118,
          119,
          120,
          121,
          122,
          123,
          124,
          125,
          126,
          127,
          128,
          129,
          130,
          131,
          132,
          133,
          134,
          135,
          136,
          137,
          138,
          139
         ],
         "xaxis": "x",
         "y": [
          0,
          29,
          150,
          314,
          353,
          477,
          614,
          639,
          846,
          872,
          968,
          977,
          982,
          1027,
          1036,
          1073,
          1087,
          1136,
          1137,
          1176,
          1202,
          1267,
          1288,
          1310,
          1403,
          1408,
          1415,
          1424,
          1438,
          1484,
          1526,
          1534,
          1541,
          1553,
          1576,
          1587,
          1592,
          1617,
          1631,
          1644,
          1686,
          1693,
          1715,
          1734,
          1737,
          1747,
          1759,
          1811,
          1866,
          1871,
          1931,
          1934,
          1942,
          1951,
          1952,
          1954,
          1988,
          2039,
          2051,
          2053,
          2076,
          2087,
          2105,
          2117,
          2134,
          2138,
          2175,
          2219,
          2253,
          2254,
          2277,
          2315,
          2331,
          2382,
          2383,
          2395,
          2401,
          2429,
          2443,
          2463,
          2472,
          2473,
          2475,
          2479,
          2491,
          2513,
          2531,
          2600,
          2624,
          2629,
          2644,
          2653,
          2660,
          2675,
          2676,
          2711,
          2767,
          2808,
          2824,
          2907,
          2923,
          2924,
          2933,
          2963,
          3062,
          3090,
          3092,
          3099,
          3111,
          3183,
          3195,
          3206,
          3220,
          3250,
          3307,
          3325,
          3357,
          3381,
          3455,
          3466,
          3480,
          3487,
          3504,
          3575,
          3609,
          3706,
          3760,
          3779,
          3793,
          3844,
          3908,
          4150,
          4289,
          4359,
          4427,
          4490,
          4619,
          4804,
          5652
         ],
         "yaxis": "y"
        }
       ],
       "layout": {
        "barmode": "relative",
        "legend": {
         "tracegroupgap": 0
        },
        "margin": {
         "t": 60
        },
        "template": {
         "data": {
          "bar": [
           {
            "error_x": {
             "color": "#2a3f5f"
            },
            "error_y": {
             "color": "#2a3f5f"
            },
            "marker": {
             "line": {
              "color": "#E5ECF6",
              "width": 0.5
             },
             "pattern": {
              "fillmode": "overlay",
              "size": 10,
              "solidity": 0.2
             }
            },
            "type": "bar"
           }
          ],
          "barpolar": [
           {
            "marker": {
             "line": {
              "color": "#E5ECF6",
              "width": 0.5
             },
             "pattern": {
              "fillmode": "overlay",
              "size": 10,
              "solidity": 0.2
             }
            },
            "type": "barpolar"
           }
          ],
          "carpet": [
           {
            "aaxis": {
             "endlinecolor": "#2a3f5f",
             "gridcolor": "white",
             "linecolor": "white",
             "minorgridcolor": "white",
             "startlinecolor": "#2a3f5f"
            },
            "baxis": {
             "endlinecolor": "#2a3f5f",
             "gridcolor": "white",
             "linecolor": "white",
             "minorgridcolor": "white",
             "startlinecolor": "#2a3f5f"
            },
            "type": "carpet"
           }
          ],
          "choropleth": [
           {
            "colorbar": {
             "outlinewidth": 0,
             "ticks": ""
            },
            "type": "choropleth"
           }
          ],
          "contour": [
           {
            "colorbar": {
             "outlinewidth": 0,
             "ticks": ""
            },
            "colorscale": [
             [
              0,
              "#0d0887"
             ],
             [
              0.1111111111111111,
              "#46039f"
             ],
             [
              0.2222222222222222,
              "#7201a8"
             ],
             [
              0.3333333333333333,
              "#9c179e"
             ],
             [
              0.4444444444444444,
              "#bd3786"
             ],
             [
              0.5555555555555556,
              "#d8576b"
             ],
             [
              0.6666666666666666,
              "#ed7953"
             ],
             [
              0.7777777777777778,
              "#fb9f3a"
             ],
             [
              0.8888888888888888,
              "#fdca26"
             ],
             [
              1,
              "#f0f921"
             ]
            ],
            "type": "contour"
           }
          ],
          "contourcarpet": [
           {
            "colorbar": {
             "outlinewidth": 0,
             "ticks": ""
            },
            "type": "contourcarpet"
           }
          ],
          "heatmap": [
           {
            "colorbar": {
             "outlinewidth": 0,
             "ticks": ""
            },
            "colorscale": [
             [
              0,
              "#0d0887"
             ],
             [
              0.1111111111111111,
              "#46039f"
             ],
             [
              0.2222222222222222,
              "#7201a8"
             ],
             [
              0.3333333333333333,
              "#9c179e"
             ],
             [
              0.4444444444444444,
              "#bd3786"
             ],
             [
              0.5555555555555556,
              "#d8576b"
             ],
             [
              0.6666666666666666,
              "#ed7953"
             ],
             [
              0.7777777777777778,
              "#fb9f3a"
             ],
             [
              0.8888888888888888,
              "#fdca26"
             ],
             [
              1,
              "#f0f921"
             ]
            ],
            "type": "heatmap"
           }
          ],
          "heatmapgl": [
           {
            "colorbar": {
             "outlinewidth": 0,
             "ticks": ""
            },
            "colorscale": [
             [
              0,
              "#0d0887"
             ],
             [
              0.1111111111111111,
              "#46039f"
             ],
             [
              0.2222222222222222,
              "#7201a8"
             ],
             [
              0.3333333333333333,
              "#9c179e"
             ],
             [
              0.4444444444444444,
              "#bd3786"
             ],
             [
              0.5555555555555556,
              "#d8576b"
             ],
             [
              0.6666666666666666,
              "#ed7953"
             ],
             [
              0.7777777777777778,
              "#fb9f3a"
             ],
             [
              0.8888888888888888,
              "#fdca26"
             ],
             [
              1,
              "#f0f921"
             ]
            ],
            "type": "heatmapgl"
           }
          ],
          "histogram": [
           {
            "marker": {
             "pattern": {
              "fillmode": "overlay",
              "size": 10,
              "solidity": 0.2
             }
            },
            "type": "histogram"
           }
          ],
          "histogram2d": [
           {
            "colorbar": {
             "outlinewidth": 0,
             "ticks": ""
            },
            "colorscale": [
             [
              0,
              "#0d0887"
             ],
             [
              0.1111111111111111,
              "#46039f"
             ],
             [
              0.2222222222222222,
              "#7201a8"
             ],
             [
              0.3333333333333333,
              "#9c179e"
             ],
             [
              0.4444444444444444,
              "#bd3786"
             ],
             [
              0.5555555555555556,
              "#d8576b"
             ],
             [
              0.6666666666666666,
              "#ed7953"
             ],
             [
              0.7777777777777778,
              "#fb9f3a"
             ],
             [
              0.8888888888888888,
              "#fdca26"
             ],
             [
              1,
              "#f0f921"
             ]
            ],
            "type": "histogram2d"
           }
          ],
          "histogram2dcontour": [
           {
            "colorbar": {
             "outlinewidth": 0,
             "ticks": ""
            },
            "colorscale": [
             [
              0,
              "#0d0887"
             ],
             [
              0.1111111111111111,
              "#46039f"
             ],
             [
              0.2222222222222222,
              "#7201a8"
             ],
             [
              0.3333333333333333,
              "#9c179e"
             ],
             [
              0.4444444444444444,
              "#bd3786"
             ],
             [
              0.5555555555555556,
              "#d8576b"
             ],
             [
              0.6666666666666666,
              "#ed7953"
             ],
             [
              0.7777777777777778,
              "#fb9f3a"
             ],
             [
              0.8888888888888888,
              "#fdca26"
             ],
             [
              1,
              "#f0f921"
             ]
            ],
            "type": "histogram2dcontour"
           }
          ],
          "mesh3d": [
           {
            "colorbar": {
             "outlinewidth": 0,
             "ticks": ""
            },
            "type": "mesh3d"
           }
          ],
          "parcoords": [
           {
            "line": {
             "colorbar": {
              "outlinewidth": 0,
              "ticks": ""
             }
            },
            "type": "parcoords"
           }
          ],
          "pie": [
           {
            "automargin": true,
            "type": "pie"
           }
          ],
          "scatter": [
           {
            "fillpattern": {
             "fillmode": "overlay",
             "size": 10,
             "solidity": 0.2
            },
            "type": "scatter"
           }
          ],
          "scatter3d": [
           {
            "line": {
             "colorbar": {
              "outlinewidth": 0,
              "ticks": ""
             }
            },
            "marker": {
             "colorbar": {
              "outlinewidth": 0,
              "ticks": ""
             }
            },
            "type": "scatter3d"
           }
          ],
          "scattercarpet": [
           {
            "marker": {
             "colorbar": {
              "outlinewidth": 0,
              "ticks": ""
             }
            },
            "type": "scattercarpet"
           }
          ],
          "scattergeo": [
           {
            "marker": {
             "colorbar": {
              "outlinewidth": 0,
              "ticks": ""
             }
            },
            "type": "scattergeo"
           }
          ],
          "scattergl": [
           {
            "marker": {
             "colorbar": {
              "outlinewidth": 0,
              "ticks": ""
             }
            },
            "type": "scattergl"
           }
          ],
          "scattermapbox": [
           {
            "marker": {
             "colorbar": {
              "outlinewidth": 0,
              "ticks": ""
             }
            },
            "type": "scattermapbox"
           }
          ],
          "scatterpolar": [
           {
            "marker": {
             "colorbar": {
              "outlinewidth": 0,
              "ticks": ""
             }
            },
            "type": "scatterpolar"
           }
          ],
          "scatterpolargl": [
           {
            "marker": {
             "colorbar": {
              "outlinewidth": 0,
              "ticks": ""
             }
            },
            "type": "scatterpolargl"
           }
          ],
          "scatterternary": [
           {
            "marker": {
             "colorbar": {
              "outlinewidth": 0,
              "ticks": ""
             }
            },
            "type": "scatterternary"
           }
          ],
          "surface": [
           {
            "colorbar": {
             "outlinewidth": 0,
             "ticks": ""
            },
            "colorscale": [
             [
              0,
              "#0d0887"
             ],
             [
              0.1111111111111111,
              "#46039f"
             ],
             [
              0.2222222222222222,
              "#7201a8"
             ],
             [
              0.3333333333333333,
              "#9c179e"
             ],
             [
              0.4444444444444444,
              "#bd3786"
             ],
             [
              0.5555555555555556,
              "#d8576b"
             ],
             [
              0.6666666666666666,
              "#ed7953"
             ],
             [
              0.7777777777777778,
              "#fb9f3a"
             ],
             [
              0.8888888888888888,
              "#fdca26"
             ],
             [
              1,
              "#f0f921"
             ]
            ],
            "type": "surface"
           }
          ],
          "table": [
           {
            "cells": {
             "fill": {
              "color": "#EBF0F8"
             },
             "line": {
              "color": "white"
             }
            },
            "header": {
             "fill": {
              "color": "#C8D4E3"
             },
             "line": {
              "color": "white"
             }
            },
            "type": "table"
           }
          ]
         },
         "layout": {
          "annotationdefaults": {
           "arrowcolor": "#2a3f5f",
           "arrowhead": 0,
           "arrowwidth": 1
          },
          "autotypenumbers": "strict",
          "coloraxis": {
           "colorbar": {
            "outlinewidth": 0,
            "ticks": ""
           }
          },
          "colorscale": {
           "diverging": [
            [
             0,
             "#8e0152"
            ],
            [
             0.1,
             "#c51b7d"
            ],
            [
             0.2,
             "#de77ae"
            ],
            [
             0.3,
             "#f1b6da"
            ],
            [
             0.4,
             "#fde0ef"
            ],
            [
             0.5,
             "#f7f7f7"
            ],
            [
             0.6,
             "#e6f5d0"
            ],
            [
             0.7,
             "#b8e186"
            ],
            [
             0.8,
             "#7fbc41"
            ],
            [
             0.9,
             "#4d9221"
            ],
            [
             1,
             "#276419"
            ]
           ],
           "sequential": [
            [
             0,
             "#0d0887"
            ],
            [
             0.1111111111111111,
             "#46039f"
            ],
            [
             0.2222222222222222,
             "#7201a8"
            ],
            [
             0.3333333333333333,
             "#9c179e"
            ],
            [
             0.4444444444444444,
             "#bd3786"
            ],
            [
             0.5555555555555556,
             "#d8576b"
            ],
            [
             0.6666666666666666,
             "#ed7953"
            ],
            [
             0.7777777777777778,
             "#fb9f3a"
            ],
            [
             0.8888888888888888,
             "#fdca26"
            ],
            [
             1,
             "#f0f921"
            ]
           ],
           "sequentialminus": [
            [
             0,
             "#0d0887"
            ],
            [
             0.1111111111111111,
             "#46039f"
            ],
            [
             0.2222222222222222,
             "#7201a8"
            ],
            [
             0.3333333333333333,
             "#9c179e"
            ],
            [
             0.4444444444444444,
             "#bd3786"
            ],
            [
             0.5555555555555556,
             "#d8576b"
            ],
            [
             0.6666666666666666,
             "#ed7953"
            ],
            [
             0.7777777777777778,
             "#fb9f3a"
            ],
            [
             0.8888888888888888,
             "#fdca26"
            ],
            [
             1,
             "#f0f921"
            ]
           ]
          },
          "colorway": [
           "#636efa",
           "#EF553B",
           "#00cc96",
           "#ab63fa",
           "#FFA15A",
           "#19d3f3",
           "#FF6692",
           "#B6E880",
           "#FF97FF",
           "#FECB52"
          ],
          "font": {
           "color": "#2a3f5f"
          },
          "geo": {
           "bgcolor": "white",
           "lakecolor": "white",
           "landcolor": "#E5ECF6",
           "showlakes": true,
           "showland": true,
           "subunitcolor": "white"
          },
          "hoverlabel": {
           "align": "left"
          },
          "hovermode": "closest",
          "mapbox": {
           "style": "light"
          },
          "paper_bgcolor": "white",
          "plot_bgcolor": "#E5ECF6",
          "polar": {
           "angularaxis": {
            "gridcolor": "white",
            "linecolor": "white",
            "ticks": ""
           },
           "bgcolor": "#E5ECF6",
           "radialaxis": {
            "gridcolor": "white",
            "linecolor": "white",
            "ticks": ""
           }
          },
          "scene": {
           "xaxis": {
            "backgroundcolor": "#E5ECF6",
            "gridcolor": "white",
            "gridwidth": 2,
            "linecolor": "white",
            "showbackground": true,
            "ticks": "",
            "zerolinecolor": "white"
           },
           "yaxis": {
            "backgroundcolor": "#E5ECF6",
            "gridcolor": "white",
            "gridwidth": 2,
            "linecolor": "white",
            "showbackground": true,
            "ticks": "",
            "zerolinecolor": "white"
           },
           "zaxis": {
            "backgroundcolor": "#E5ECF6",
            "gridcolor": "white",
            "gridwidth": 2,
            "linecolor": "white",
            "showbackground": true,
            "ticks": "",
            "zerolinecolor": "white"
           }
          },
          "shapedefaults": {
           "line": {
            "color": "#2a3f5f"
           }
          },
          "ternary": {
           "aaxis": {
            "gridcolor": "white",
            "linecolor": "white",
            "ticks": ""
           },
           "baxis": {
            "gridcolor": "white",
            "linecolor": "white",
            "ticks": ""
           },
           "bgcolor": "#E5ECF6",
           "caxis": {
            "gridcolor": "white",
            "linecolor": "white",
            "ticks": ""
           }
          },
          "title": {
           "x": 0.05
          },
          "xaxis": {
           "automargin": true,
           "gridcolor": "white",
           "linecolor": "white",
           "ticks": "",
           "title": {
            "standoff": 15
           },
           "zerolinecolor": "white",
           "zerolinewidth": 2
          },
          "yaxis": {
           "automargin": true,
           "gridcolor": "white",
           "linecolor": "white",
           "ticks": "",
           "title": {
            "standoff": 15
           },
           "zerolinecolor": "white",
           "zerolinewidth": 2
          }
         }
        },
        "xaxis": {
         "anchor": "y",
         "domain": [
          0,
          1
         ],
         "title": {
          "text": "place"
         }
        },
        "yaxis": {
         "anchor": "x",
         "domain": [
          0,
          1
         ],
         "title": {
          "text": "diff_time_in_seconds"
         }
        }
       }
      }
     },
     "metadata": {},
     "output_type": "display_data"
    }
   ],
   "source": [
    "import plotly.express as px\n",
    "\n",
    "fig = px.bar(\n",
    "    fin[fin[\"sex\"] == \"M\"],\n",
    "    x=\"place\",\n",
    "    y=\"diff_time_in_seconds\",\n",
    "    hover_name=\"name\",\n",
    ")\n",
    "fig.show()"
   ]
  },
  {
   "cell_type": "code",
   "execution_count": null,
   "metadata": {},
   "outputs": [
    {
     "data": {
      "image/png": "[encoded data removed]",
      "text/plain": [
       "<Figure size 640x480 with 1 Axes>"
      ]
     },
     "metadata": {},
     "output_type": "display_data"
    }
   ],
   "source": [
    "ax = df.groupby(\"team\").size().sort_values(ascending=False).plot(kind=\"bar\")\n",
    "\n",
    "\n",
    "for p in ax.patches:\n",
    "    ax.annotate(\n",
    "        str(int(p.get_height())),\n",
    "        (p.get_x() + p.get_width() / 2.0, p.get_height()),\n",
    "        ha=\"center\",\n",
    "        va=\"center\",\n",
    "        textcoords=\"offset points\",\n",
    "        xytext=(0, 10),\n",
    "        arrowprops=None,\n",
    "    )\n",
    "\n",
    "\n",
    "# Remove the axis labels\n",
    "ax.set_ylabel(\"\")\n",
    "ax.set_xlabel(\"\")\n",
    "\n",
    "# Remove the y-axis ticks and numbers\n",
    "ax.yaxis.set_visible(False)\n",
    "\n",
    "# Remove the spines (the black box)\n",
    "ax.spines[\"top\"].set_visible(False)\n",
    "ax.spines[\"right\"].set_visible(False)\n",
    "ax.spines[\"left\"].set_visible(False)\n",
    "ax.spines[\"bottom\"].set_visible(False)\n",
    "\n",
    "ax.set_title(\"Nationalities of participants\")\n",
    "\n",
    "plt.show()"
   ]
  },
  {
   "cell_type": "code",
   "execution_count": null,
   "metadata": {},
   "outputs": [
    {
     "data": {
      "image/png": "[encoded data removed]",
      "text/plain": [
       "<Figure size 640x480 with 1 Axes>"
      ]
     },
     "metadata": {},
     "output_type": "display_data"
    }
   ],
   "source": [
    "# Group by nationality and sex, then count the occurrences\n",
    "grouped_df = (\n",
    "    df.groupby([\"nationality\", \"sex\"])\n",
    "    .size()\n",
    "    .sort_values(ascending=False)\n",
    "    .unstack(fill_value=0)\n",
    ")\n",
    "\n",
    "# Plot the stacked bar plot\n",
    "ax = grouped_df.plot(\n",
    "    kind=\"bar\", stacked=True, color=[\"pink\", \"skyblue\"], edgecolor=\"black\"\n",
    ")\n",
    "\n",
    "# Add annotations for the stacked bars\n",
    "# for container in ax.containers:\n",
    "# ax.bar_label(container, label_type=\"center\")\n",
    "\n",
    "# Customize the plot\n",
    "ax.set_ylabel(\"\")\n",
    "ax.set_xlabel(\"\")\n",
    "ax.yaxis.set_visible(False)\n",
    "ax.spines[\"top\"].set_visible(False)\n",
    "ax.spines[\"right\"].set_visible(False)\n",
    "ax.spines[\"left\"].set_visible(False)\n",
    "ax.spines[\"bottom\"].set_visible(False)\n",
    "ax.set_title(\"Nationalities of participants by Sex\")\n",
    "\n",
    "plt.show()"
   ]
  }
 ],
 "metadata": {
  "kernelspec": {
   "display_name": "Python 3",
   "language": "python",
   "name": "python3"
  },
  "language_info": {
   "codemirror_mode": {
    "name": "ipython",
    "version": 3
   },
   "file_extension": ".py",
   "mimetype": "text/x-python",
   "name": "python",
   "nbconvert_exporter": "python",
   "pygments_lexer": "ipython3",
   "version": "3.10.12"
  }
 },
 "nbformat": 4,
 "nbformat_minor": 2
}
